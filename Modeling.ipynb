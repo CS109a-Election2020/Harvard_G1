{
 "cells": [
  {
   "cell_type": "code",
   "execution_count": 1,
   "metadata": {},
   "outputs": [],
   "source": [
    "import numpy as np\n",
    "import pandas as pd\n",
    "import matplotlib.pyplot as plt\n",
    "\n",
    "from sklearn.model_selection import cross_val_score\n",
    "from sklearn.utils import resample\n",
    "from sklearn.linear_model import LinearRegression\n",
    "from sklearn.linear_model import Lasso\n",
    "from sklearn.linear_model import LassoCV\n",
    "from sklearn.tree import DecisionTreeClassifier\n",
    "from sklearn.ensemble import RandomForestClassifier\n",
    "from sklearn.ensemble import AdaBoostClassifier\n",
    "from sklearn.metrics import accuracy_score\n",
    "from sklearn.model_selection import KFold\n",
    "from sklearn.preprocessing import StandardScaler\n",
    "from sklearn.preprocessing import PolynomialFeatures\n",
    "from sklearn.model_selection import train_test_split\n",
    "from sklearn.utils import shuffle\n",
    "from sklearn.metrics import mean_squared_error\n",
    "from sklearn import metrics\n",
    "from sklearn.decomposition import PCA\n",
    "%matplotlib inline\n",
    "\n",
    "import seaborn as sns\n",
    "sns.set(style='whitegrid')\n",
    "pd.set_option('display.width', 1500)\n",
    "pd.set_option('display.max_columns', 100)"
   ]
  },
  {
   "cell_type": "markdown",
   "metadata": {},
   "source": [
    "# Import data"
   ]
  },
  {
   "cell_type": "code",
   "execution_count": 2,
   "metadata": {},
   "outputs": [],
   "source": [
    "df=pd.read_csv(\"/Users/raphaelletoubiana/Desktop/Harvard/CS109A/project/df_final_15_predictors.csv\")"
   ]
  },
  {
   "cell_type": "code",
   "execution_count": 4,
   "metadata": {},
   "outputs": [
    {
     "data": {
      "text/html": [
       "<div>\n",
       "<style scoped>\n",
       "    .dataframe tbody tr th:only-of-type {\n",
       "        vertical-align: middle;\n",
       "    }\n",
       "\n",
       "    .dataframe tbody tr th {\n",
       "        vertical-align: top;\n",
       "    }\n",
       "\n",
       "    .dataframe thead th {\n",
       "        text-align: right;\n",
       "    }\n",
       "</style>\n",
       "<table border=\"1\" class=\"dataframe\">\n",
       "  <thead>\n",
       "    <tr style=\"text-align: right;\">\n",
       "      <th></th>\n",
       "      <th>popular_vote_percentage</th>\n",
       "      <th>NAP</th>\n",
       "      <th>payroll</th>\n",
       "      <th>stock</th>\n",
       "      <th>rdi</th>\n",
       "      <th>election</th>\n",
       "      <th>national_polls</th>\n",
       "      <th>gdp</th>\n",
       "      <th>state_election</th>\n",
       "      <th>Democrat_Republican</th>\n",
       "      <th>NAP_weighted_diff</th>\n",
       "      <th>stock_weighted_diff</th>\n",
       "      <th>rdi_weighted_diff</th>\n",
       "      <th>national_polls_weighted_diff</th>\n",
       "      <th>gdp_weighted_diff</th>\n",
       "    </tr>\n",
       "  </thead>\n",
       "  <tbody>\n",
       "    <tr>\n",
       "      <td>35</td>\n",
       "      <td>47.20</td>\n",
       "      <td>-0.035400</td>\n",
       "      <td>0.085630</td>\n",
       "      <td>-0.472306</td>\n",
       "      <td>-9.395652</td>\n",
       "      <td>0.010417</td>\n",
       "      <td>0.161177</td>\n",
       "      <td>0.057881</td>\n",
       "      <td>1.0</td>\n",
       "      <td>0</td>\n",
       "      <td>7.13</td>\n",
       "      <td>0.8649</td>\n",
       "      <td>23.9</td>\n",
       "      <td>982.980010</td>\n",
       "      <td>94869.629</td>\n",
       "    </tr>\n",
       "    <tr>\n",
       "      <td>36</td>\n",
       "      <td>46.09</td>\n",
       "      <td>0.250092</td>\n",
       "      <td>0.115664</td>\n",
       "      <td>-24.363123</td>\n",
       "      <td>-5.676494</td>\n",
       "      <td>0.032886</td>\n",
       "      <td>0.263929</td>\n",
       "      <td>0.072054</td>\n",
       "      <td>-1.0</td>\n",
       "      <td>0</td>\n",
       "      <td>7.68</td>\n",
       "      <td>0.8853</td>\n",
       "      <td>27.5</td>\n",
       "      <td>845.412267</td>\n",
       "      <td>103491.911</td>\n",
       "    </tr>\n",
       "    <tr>\n",
       "      <td>37</td>\n",
       "      <td>48.18</td>\n",
       "      <td>0.250092</td>\n",
       "      <td>0.115664</td>\n",
       "      <td>-24.363123</td>\n",
       "      <td>-5.676494</td>\n",
       "      <td>0.032886</td>\n",
       "      <td>0.229380</td>\n",
       "      <td>0.072054</td>\n",
       "      <td>-1.0</td>\n",
       "      <td>1</td>\n",
       "      <td>7.68</td>\n",
       "      <td>0.8853</td>\n",
       "      <td>27.5</td>\n",
       "      <td>936.224151</td>\n",
       "      <td>103491.911</td>\n",
       "    </tr>\n",
       "    <tr>\n",
       "      <td>38</td>\n",
       "      <td>47.40</td>\n",
       "      <td>0.559690</td>\n",
       "      <td>-0.810255</td>\n",
       "      <td>-14.658748</td>\n",
       "      <td>-1.571033</td>\n",
       "      <td>-0.112869</td>\n",
       "      <td>0.138836</td>\n",
       "      <td>0.071533</td>\n",
       "      <td>1.0</td>\n",
       "      <td>0</td>\n",
       "      <td>6.71</td>\n",
       "      <td>0.6600</td>\n",
       "      <td>22.9</td>\n",
       "      <td>897.398750</td>\n",
       "      <td>113749.155</td>\n",
       "    </tr>\n",
       "    <tr>\n",
       "      <td>39</td>\n",
       "      <td>50.80</td>\n",
       "      <td>0.559690</td>\n",
       "      <td>-0.810255</td>\n",
       "      <td>-14.658748</td>\n",
       "      <td>-1.571033</td>\n",
       "      <td>-0.112869</td>\n",
       "      <td>0.116536</td>\n",
       "      <td>0.071533</td>\n",
       "      <td>1.0</td>\n",
       "      <td>1</td>\n",
       "      <td>6.71</td>\n",
       "      <td>0.6600</td>\n",
       "      <td>22.9</td>\n",
       "      <td>1075.228069</td>\n",
       "      <td>113749.155</td>\n",
       "    </tr>\n",
       "  </tbody>\n",
       "</table>\n",
       "</div>"
      ],
      "text/plain": [
       "    popular_vote_percentage       NAP   payroll      stock       rdi  election  national_polls       gdp  state_election  Democrat_Republican  NAP_weighted_diff  stock_weighted_diff  rdi_weighted_diff  national_polls_weighted_diff  gdp_weighted_diff\n",
       "35                    47.20 -0.035400  0.085630  -0.472306 -9.395652  0.010417        0.161177  0.057881             1.0                    0               7.13               0.8649               23.9                    982.980010          94869.629\n",
       "36                    46.09  0.250092  0.115664 -24.363123 -5.676494  0.032886        0.263929  0.072054            -1.0                    0               7.68               0.8853               27.5                    845.412267         103491.911\n",
       "37                    48.18  0.250092  0.115664 -24.363123 -5.676494  0.032886        0.229380  0.072054            -1.0                    1               7.68               0.8853               27.5                    936.224151         103491.911\n",
       "38                    47.40  0.559690 -0.810255 -14.658748 -1.571033 -0.112869        0.138836  0.071533             1.0                    0               6.71               0.6600               22.9                    897.398750         113749.155\n",
       "39                    50.80  0.559690 -0.810255 -14.658748 -1.571033 -0.112869        0.116536  0.071533             1.0                    1               6.71               0.6600               22.9                   1075.228069         113749.155"
      ]
     },
     "execution_count": 4,
     "metadata": {},
     "output_type": "execute_result"
    }
   ],
   "source": [
    "df.tail()"
   ]
  },
  {
   "cell_type": "markdown",
   "metadata": {},
   "source": [
    "# Transform data"
   ]
  },
  {
   "cell_type": "code",
   "execution_count": 17,
   "metadata": {},
   "outputs": [],
   "source": [
    "X_train=df.iloc[:len(df)-2].drop([\"popular_vote_percentage\"], axis=1)\n",
    "y_train=df.iloc[:len(df)-2][\"popular_vote_percentage\"]\n",
    "\n",
    "X_test=df.iloc[len(df)-2:].drop([\"popular_vote_percentage\"], axis=1)\n",
    "y_test=df.iloc[len(df)-2:][\"popular_vote_percentage\"]"
   ]
  },
  {
   "cell_type": "code",
   "execution_count": 18,
   "metadata": {},
   "outputs": [
    {
     "data": {
      "text/html": [
       "<div>\n",
       "<style scoped>\n",
       "    .dataframe tbody tr th:only-of-type {\n",
       "        vertical-align: middle;\n",
       "    }\n",
       "\n",
       "    .dataframe tbody tr th {\n",
       "        vertical-align: top;\n",
       "    }\n",
       "\n",
       "    .dataframe thead th {\n",
       "        text-align: right;\n",
       "    }\n",
       "</style>\n",
       "<table border=\"1\" class=\"dataframe\">\n",
       "  <thead>\n",
       "    <tr style=\"text-align: right;\">\n",
       "      <th></th>\n",
       "      <th>NAP</th>\n",
       "      <th>payroll</th>\n",
       "      <th>stock</th>\n",
       "      <th>rdi</th>\n",
       "      <th>election</th>\n",
       "      <th>national_polls</th>\n",
       "      <th>gdp</th>\n",
       "      <th>state_election</th>\n",
       "      <th>Democrat_Republican</th>\n",
       "      <th>NAP_weighted_diff</th>\n",
       "      <th>stock_weighted_diff</th>\n",
       "      <th>rdi_weighted_diff</th>\n",
       "      <th>national_polls_weighted_diff</th>\n",
       "      <th>gdp_weighted_diff</th>\n",
       "    </tr>\n",
       "  </thead>\n",
       "  <tbody>\n",
       "    <tr>\n",
       "      <td>0</td>\n",
       "      <td>0.825641</td>\n",
       "      <td>0.234242</td>\n",
       "      <td>-9.718823</td>\n",
       "      <td>-1.423503</td>\n",
       "      <td>0.031317</td>\n",
       "      <td>1.083528</td>\n",
       "      <td>-0.089281</td>\n",
       "      <td>0.0</td>\n",
       "      <td>1</td>\n",
       "      <td>9.32</td>\n",
       "      <td>0.0854</td>\n",
       "      <td>5.6</td>\n",
       "      <td>892.5</td>\n",
       "      <td>12542.043</td>\n",
       "    </tr>\n",
       "    <tr>\n",
       "      <td>1</td>\n",
       "      <td>0.825641</td>\n",
       "      <td>0.234242</td>\n",
       "      <td>-9.718823</td>\n",
       "      <td>-1.423503</td>\n",
       "      <td>0.031317</td>\n",
       "      <td>1.083528</td>\n",
       "      <td>-0.089281</td>\n",
       "      <td>0.0</td>\n",
       "      <td>1</td>\n",
       "      <td>8.68</td>\n",
       "      <td>0.6699</td>\n",
       "      <td>28.2</td>\n",
       "      <td>993.0</td>\n",
       "      <td>18721.174</td>\n",
       "    </tr>\n",
       "    <tr>\n",
       "      <td>2</td>\n",
       "      <td>0.160119</td>\n",
       "      <td>0.088772</td>\n",
       "      <td>-9.402052</td>\n",
       "      <td>4.957343</td>\n",
       "      <td>-0.034111</td>\n",
       "      <td>0.272868</td>\n",
       "      <td>0.118448</td>\n",
       "      <td>-1.0</td>\n",
       "      <td>0</td>\n",
       "      <td>9.32</td>\n",
       "      <td>0.0854</td>\n",
       "      <td>5.6</td>\n",
       "      <td>892.5</td>\n",
       "      <td>12542.043</td>\n",
       "    </tr>\n",
       "    <tr>\n",
       "      <td>3</td>\n",
       "      <td>0.160119</td>\n",
       "      <td>0.088772</td>\n",
       "      <td>-9.402052</td>\n",
       "      <td>4.957343</td>\n",
       "      <td>-0.034111</td>\n",
       "      <td>0.272868</td>\n",
       "      <td>0.118448</td>\n",
       "      <td>-1.0</td>\n",
       "      <td>0</td>\n",
       "      <td>8.68</td>\n",
       "      <td>0.6699</td>\n",
       "      <td>28.2</td>\n",
       "      <td>993.0</td>\n",
       "      <td>18721.174</td>\n",
       "    </tr>\n",
       "    <tr>\n",
       "      <td>4</td>\n",
       "      <td>0.825641</td>\n",
       "      <td>0.234242</td>\n",
       "      <td>-9.718823</td>\n",
       "      <td>-1.423503</td>\n",
       "      <td>0.031317</td>\n",
       "      <td>0.377789</td>\n",
       "      <td>-0.089281</td>\n",
       "      <td>0.0</td>\n",
       "      <td>0</td>\n",
       "      <td>9.32</td>\n",
       "      <td>0.0854</td>\n",
       "      <td>5.6</td>\n",
       "      <td>1038.5</td>\n",
       "      <td>12542.043</td>\n",
       "    </tr>\n",
       "  </tbody>\n",
       "</table>\n",
       "</div>"
      ],
      "text/plain": [
       "        NAP   payroll     stock       rdi  election  national_polls       gdp  state_election  Democrat_Republican  NAP_weighted_diff  stock_weighted_diff  rdi_weighted_diff  national_polls_weighted_diff  gdp_weighted_diff\n",
       "0  0.825641  0.234242 -9.718823 -1.423503  0.031317        1.083528 -0.089281             0.0                    1               9.32               0.0854                5.6                         892.5          12542.043\n",
       "1  0.825641  0.234242 -9.718823 -1.423503  0.031317        1.083528 -0.089281             0.0                    1               8.68               0.6699               28.2                         993.0          18721.174\n",
       "2  0.160119  0.088772 -9.402052  4.957343 -0.034111        0.272868  0.118448            -1.0                    0               9.32               0.0854                5.6                         892.5          12542.043\n",
       "3  0.160119  0.088772 -9.402052  4.957343 -0.034111        0.272868  0.118448            -1.0                    0               8.68               0.6699               28.2                         993.0          18721.174\n",
       "4  0.825641  0.234242 -9.718823 -1.423503  0.031317        0.377789 -0.089281             0.0                    0               9.32               0.0854                5.6                        1038.5          12542.043"
      ]
     },
     "metadata": {},
     "output_type": "display_data"
    },
    {
     "data": {
      "text/html": [
       "<div>\n",
       "<style scoped>\n",
       "    .dataframe tbody tr th:only-of-type {\n",
       "        vertical-align: middle;\n",
       "    }\n",
       "\n",
       "    .dataframe tbody tr th {\n",
       "        vertical-align: top;\n",
       "    }\n",
       "\n",
       "    .dataframe thead th {\n",
       "        text-align: right;\n",
       "    }\n",
       "</style>\n",
       "<table border=\"1\" class=\"dataframe\">\n",
       "  <thead>\n",
       "    <tr style=\"text-align: right;\">\n",
       "      <th></th>\n",
       "      <th>NAP</th>\n",
       "      <th>payroll</th>\n",
       "      <th>stock</th>\n",
       "      <th>rdi</th>\n",
       "      <th>election</th>\n",
       "      <th>national_polls</th>\n",
       "      <th>gdp</th>\n",
       "      <th>state_election</th>\n",
       "      <th>Democrat_Republican</th>\n",
       "      <th>NAP_weighted_diff</th>\n",
       "      <th>stock_weighted_diff</th>\n",
       "      <th>rdi_weighted_diff</th>\n",
       "      <th>national_polls_weighted_diff</th>\n",
       "      <th>gdp_weighted_diff</th>\n",
       "    </tr>\n",
       "  </thead>\n",
       "  <tbody>\n",
       "    <tr>\n",
       "      <td>38</td>\n",
       "      <td>0.55969</td>\n",
       "      <td>-0.810255</td>\n",
       "      <td>-14.658748</td>\n",
       "      <td>-1.571033</td>\n",
       "      <td>-0.112869</td>\n",
       "      <td>0.138836</td>\n",
       "      <td>0.071533</td>\n",
       "      <td>1.0</td>\n",
       "      <td>0</td>\n",
       "      <td>6.71</td>\n",
       "      <td>0.66</td>\n",
       "      <td>22.9</td>\n",
       "      <td>897.398750</td>\n",
       "      <td>113749.155</td>\n",
       "    </tr>\n",
       "    <tr>\n",
       "      <td>39</td>\n",
       "      <td>0.55969</td>\n",
       "      <td>-0.810255</td>\n",
       "      <td>-14.658748</td>\n",
       "      <td>-1.571033</td>\n",
       "      <td>-0.112869</td>\n",
       "      <td>0.116536</td>\n",
       "      <td>0.071533</td>\n",
       "      <td>1.0</td>\n",
       "      <td>1</td>\n",
       "      <td>6.71</td>\n",
       "      <td>0.66</td>\n",
       "      <td>22.9</td>\n",
       "      <td>1075.228069</td>\n",
       "      <td>113749.155</td>\n",
       "    </tr>\n",
       "  </tbody>\n",
       "</table>\n",
       "</div>"
      ],
      "text/plain": [
       "        NAP   payroll      stock       rdi  election  national_polls       gdp  state_election  Democrat_Republican  NAP_weighted_diff  stock_weighted_diff  rdi_weighted_diff  national_polls_weighted_diff  gdp_weighted_diff\n",
       "38  0.55969 -0.810255 -14.658748 -1.571033 -0.112869        0.138836  0.071533             1.0                    0               6.71                 0.66               22.9                    897.398750         113749.155\n",
       "39  0.55969 -0.810255 -14.658748 -1.571033 -0.112869        0.116536  0.071533             1.0                    1               6.71                 0.66               22.9                   1075.228069         113749.155"
      ]
     },
     "metadata": {},
     "output_type": "display_data"
    }
   ],
   "source": [
    "display(X_train.head())\n",
    "display(X_test)"
   ]
  },
  {
   "cell_type": "code",
   "execution_count": 19,
   "metadata": {},
   "outputs": [
    {
     "data": {
      "text/plain": [
       "38    0\n",
       "39    1\n",
       "Name: Democrat_Republican, dtype: int64"
      ]
     },
     "execution_count": 19,
     "metadata": {},
     "output_type": "execute_result"
    }
   ],
   "source": [
    "df.iloc[len(df)-2:][\"Democrat_Republican\"]"
   ]
  },
  {
   "cell_type": "markdown",
   "metadata": {},
   "source": [
    "## Scaler"
   ]
  },
  {
   "cell_type": "code",
   "execution_count": 20,
   "metadata": {},
   "outputs": [],
   "source": [
    "colnames=X_train.keys().tolist()[:7]+X_train.keys().tolist()[9:]\n",
    "scale_Standard=StandardScaler().fit(X_train[colnames])\n",
    "X_train_scaled = pd.DataFrame(scale_Standard.transform(X_train[colnames]), columns=[colnames])\n",
    "X_test_scaled = pd.DataFrame(scale_Standard.transform(X_test[colnames]), columns=[colnames])"
   ]
  },
  {
   "cell_type": "code",
   "execution_count": 21,
   "metadata": {},
   "outputs": [],
   "source": [
    "X_train_scaled[\"state_election\"] = df.iloc[:len(df)-2][\"state_election\"]\n",
    "X_test_scaled[\"state_election\"] = [1.0, 1.0]\n",
    "\n",
    "X_train_scaled[\"Democrat_Republican\"] = df.iloc[:len(df)-2][\"Democrat_Republican\"]\n",
    "X_test_scaled[\"Democrat_Republican\"] = [0,1]"
   ]
  },
  {
   "cell_type": "code",
   "execution_count": 22,
   "metadata": {},
   "outputs": [
    {
     "data": {
      "text/html": [
       "<div>\n",
       "<style scoped>\n",
       "    .dataframe tbody tr th:only-of-type {\n",
       "        vertical-align: middle;\n",
       "    }\n",
       "\n",
       "    .dataframe tbody tr th {\n",
       "        vertical-align: top;\n",
       "    }\n",
       "\n",
       "    .dataframe thead tr th {\n",
       "        text-align: left;\n",
       "    }\n",
       "</style>\n",
       "<table border=\"1\" class=\"dataframe\">\n",
       "  <thead>\n",
       "    <tr>\n",
       "      <th></th>\n",
       "      <th>NAP</th>\n",
       "      <th>payroll</th>\n",
       "      <th>stock</th>\n",
       "      <th>rdi</th>\n",
       "      <th>election</th>\n",
       "      <th>national_polls</th>\n",
       "      <th>gdp</th>\n",
       "      <th>NAP_weighted_diff</th>\n",
       "      <th>stock_weighted_diff</th>\n",
       "      <th>rdi_weighted_diff</th>\n",
       "      <th>national_polls_weighted_diff</th>\n",
       "      <th>gdp_weighted_diff</th>\n",
       "      <th>state_election</th>\n",
       "      <th>Democrat_Republican</th>\n",
       "    </tr>\n",
       "  </thead>\n",
       "  <tbody>\n",
       "    <tr>\n",
       "      <td>0</td>\n",
       "      <td>2.286111</td>\n",
       "      <td>1.430847</td>\n",
       "      <td>-0.211361</td>\n",
       "      <td>-0.475242</td>\n",
       "      <td>-0.196043</td>\n",
       "      <td>1.852562</td>\n",
       "      <td>-2.520602</td>\n",
       "      <td>0.917870</td>\n",
       "      <td>-1.17432</td>\n",
       "      <td>-2.096502</td>\n",
       "      <td>-0.362495</td>\n",
       "      <td>-1.170073</td>\n",
       "      <td>0.0</td>\n",
       "      <td>1</td>\n",
       "    </tr>\n",
       "    <tr>\n",
       "      <td>1</td>\n",
       "      <td>2.286111</td>\n",
       "      <td>1.430847</td>\n",
       "      <td>-0.211361</td>\n",
       "      <td>-0.475242</td>\n",
       "      <td>-0.196043</td>\n",
       "      <td>1.852562</td>\n",
       "      <td>-2.520602</td>\n",
       "      <td>0.561051</td>\n",
       "      <td>-0.22507</td>\n",
       "      <td>-0.331676</td>\n",
       "      <td>0.335023</td>\n",
       "      <td>-0.960599</td>\n",
       "      <td>0.0</td>\n",
       "      <td>1</td>\n",
       "    </tr>\n",
       "    <tr>\n",
       "      <td>2</td>\n",
       "      <td>0.023187</td>\n",
       "      <td>-0.599966</td>\n",
       "      <td>-0.189361</td>\n",
       "      <td>0.733166</td>\n",
       "      <td>-1.771777</td>\n",
       "      <td>-0.055224</td>\n",
       "      <td>0.387658</td>\n",
       "      <td>0.917870</td>\n",
       "      <td>-1.17432</td>\n",
       "      <td>-2.096502</td>\n",
       "      <td>-0.362495</td>\n",
       "      <td>-1.170073</td>\n",
       "      <td>-1.0</td>\n",
       "      <td>0</td>\n",
       "    </tr>\n",
       "    <tr>\n",
       "      <td>3</td>\n",
       "      <td>0.023187</td>\n",
       "      <td>-0.599966</td>\n",
       "      <td>-0.189361</td>\n",
       "      <td>0.733166</td>\n",
       "      <td>-1.771777</td>\n",
       "      <td>-0.055224</td>\n",
       "      <td>0.387658</td>\n",
       "      <td>0.561051</td>\n",
       "      <td>-0.22507</td>\n",
       "      <td>-0.331676</td>\n",
       "      <td>0.335023</td>\n",
       "      <td>-0.960599</td>\n",
       "      <td>-1.0</td>\n",
       "      <td>0</td>\n",
       "    </tr>\n",
       "    <tr>\n",
       "      <td>4</td>\n",
       "      <td>2.286111</td>\n",
       "      <td>1.430847</td>\n",
       "      <td>-0.211361</td>\n",
       "      <td>-0.475242</td>\n",
       "      <td>-0.196043</td>\n",
       "      <td>0.191695</td>\n",
       "      <td>-2.520602</td>\n",
       "      <td>0.917870</td>\n",
       "      <td>-1.17432</td>\n",
       "      <td>-2.096502</td>\n",
       "      <td>0.650815</td>\n",
       "      <td>-1.170073</td>\n",
       "      <td>0.0</td>\n",
       "      <td>0</td>\n",
       "    </tr>\n",
       "  </tbody>\n",
       "</table>\n",
       "</div>"
      ],
      "text/plain": [
       "        NAP   payroll     stock       rdi  election national_polls       gdp NAP_weighted_diff stock_weighted_diff rdi_weighted_diff national_polls_weighted_diff gdp_weighted_diff state_election Democrat_Republican\n",
       "0  2.286111  1.430847 -0.211361 -0.475242 -0.196043       1.852562 -2.520602          0.917870            -1.17432         -2.096502                    -0.362495         -1.170073            0.0                   1\n",
       "1  2.286111  1.430847 -0.211361 -0.475242 -0.196043       1.852562 -2.520602          0.561051            -0.22507         -0.331676                     0.335023         -0.960599            0.0                   1\n",
       "2  0.023187 -0.599966 -0.189361  0.733166 -1.771777      -0.055224  0.387658          0.917870            -1.17432         -2.096502                    -0.362495         -1.170073           -1.0                   0\n",
       "3  0.023187 -0.599966 -0.189361  0.733166 -1.771777      -0.055224  0.387658          0.561051            -0.22507         -0.331676                     0.335023         -0.960599           -1.0                   0\n",
       "4  2.286111  1.430847 -0.211361 -0.475242 -0.196043       0.191695 -2.520602          0.917870            -1.17432         -2.096502                     0.650815         -1.170073            0.0                   0"
      ]
     },
     "metadata": {},
     "output_type": "display_data"
    },
    {
     "data": {
      "text/html": [
       "<div>\n",
       "<style scoped>\n",
       "    .dataframe tbody tr th:only-of-type {\n",
       "        vertical-align: middle;\n",
       "    }\n",
       "\n",
       "    .dataframe tbody tr th {\n",
       "        vertical-align: top;\n",
       "    }\n",
       "\n",
       "    .dataframe thead tr th {\n",
       "        text-align: left;\n",
       "    }\n",
       "</style>\n",
       "<table border=\"1\" class=\"dataframe\">\n",
       "  <thead>\n",
       "    <tr>\n",
       "      <th></th>\n",
       "      <th>NAP</th>\n",
       "      <th>payroll</th>\n",
       "      <th>stock</th>\n",
       "      <th>rdi</th>\n",
       "      <th>election</th>\n",
       "      <th>national_polls</th>\n",
       "      <th>gdp</th>\n",
       "      <th>NAP_weighted_diff</th>\n",
       "      <th>stock_weighted_diff</th>\n",
       "      <th>rdi_weighted_diff</th>\n",
       "      <th>national_polls_weighted_diff</th>\n",
       "      <th>gdp_weighted_diff</th>\n",
       "      <th>state_election</th>\n",
       "      <th>Democrat_Republican</th>\n",
       "    </tr>\n",
       "  </thead>\n",
       "  <tbody>\n",
       "    <tr>\n",
       "      <td>0</td>\n",
       "      <td>1.381817</td>\n",
       "      <td>-13.150737</td>\n",
       "      <td>-0.554447</td>\n",
       "      <td>-0.503182</td>\n",
       "      <td>-3.668521</td>\n",
       "      <td>-0.37065</td>\n",
       "      <td>-0.269166</td>\n",
       "      <td>-0.537282</td>\n",
       "      <td>-0.241148</td>\n",
       "      <td>-0.745551</td>\n",
       "      <td>-0.328495</td>\n",
       "      <td>2.260882</td>\n",
       "      <td>1.0</td>\n",
       "      <td>0</td>\n",
       "    </tr>\n",
       "    <tr>\n",
       "      <td>1</td>\n",
       "      <td>1.381817</td>\n",
       "      <td>-13.150737</td>\n",
       "      <td>-0.554447</td>\n",
       "      <td>-0.503182</td>\n",
       "      <td>-3.668521</td>\n",
       "      <td>-0.42313</td>\n",
       "      <td>-0.269166</td>\n",
       "      <td>-0.537282</td>\n",
       "      <td>-0.241148</td>\n",
       "      <td>-0.745551</td>\n",
       "      <td>0.905725</td>\n",
       "      <td>2.260882</td>\n",
       "      <td>1.0</td>\n",
       "      <td>1</td>\n",
       "    </tr>\n",
       "  </tbody>\n",
       "</table>\n",
       "</div>"
      ],
      "text/plain": [
       "        NAP    payroll     stock       rdi  election national_polls       gdp NAP_weighted_diff stock_weighted_diff rdi_weighted_diff national_polls_weighted_diff gdp_weighted_diff state_election Democrat_Republican\n",
       "0  1.381817 -13.150737 -0.554447 -0.503182 -3.668521       -0.37065 -0.269166         -0.537282           -0.241148         -0.745551                    -0.328495          2.260882            1.0                   0\n",
       "1  1.381817 -13.150737 -0.554447 -0.503182 -3.668521       -0.42313 -0.269166         -0.537282           -0.241148         -0.745551                     0.905725          2.260882            1.0                   1"
      ]
     },
     "metadata": {},
     "output_type": "display_data"
    }
   ],
   "source": [
    "display(X_train_scaled.head())\n",
    "display(X_test_scaled)"
   ]
  },
  {
   "cell_type": "markdown",
   "metadata": {},
   "source": [
    "# Lasso CV"
   ]
  },
  {
   "cell_type": "code",
   "execution_count": 24,
   "metadata": {},
   "outputs": [
    {
     "name": "stderr",
     "output_type": "stream",
     "text": [
      "/Users/raphaelletoubiana/opt/anaconda3/lib/python3.7/site-packages/sklearn/linear_model/_coordinate_descent.py:527: ConvergenceWarning: Objective did not converge. You might want to increase the number of iterations. Duality gap: 6.112928294004178, tolerance: 0.08434441684210525\n",
      "  tol, rng, random, positive)\n"
     ]
    },
    {
     "data": {
      "text/plain": [
       "\"scores.append([mse, y_pred_test[0], y_pred_test[1]])\\nnames.append('Lasso regression with 7 scaled PCs, cv=2')\\ndf_results = pd.DataFrame(scores, index=names, columns=['MSE', 'Prediction for Trump', 'Prediction for Biden'])\\ndf_results\""
      ]
     },
     "execution_count": 24,
     "metadata": {},
     "output_type": "execute_result"
    }
   ],
   "source": [
    "alphas=[0.001,0.01, 0.1, 1, 10, 100]\n",
    "\n",
    "lasso_cv = LassoCV(cv=2, alphas=alphas)\n",
    "lasso_cv.fit(X_train_scaled, y_train)\n",
    "\n",
    "y_pred_test = lasso_cv.predict(X_test_scaled)\n",
    "y_pred_train = lasso_cv.predict(X_train_scaled)\n",
    "\n",
    "val_mse=lasso_cv.mse_path_.mean(axis=1)\n",
    "\n",
    "'''scores.append([mse, y_pred_test[0], y_pred_test[1]])\n",
    "names.append('Lasso regression with 7 scaled PCs, cv=2')\n",
    "df_results = pd.DataFrame(scores, index=names, columns=['MSE', 'Prediction for Trump', 'Prediction for Biden'])\n",
    "df_results'''"
   ]
  },
  {
   "cell_type": "code",
   "execution_count": 25,
   "metadata": {},
   "outputs": [
    {
     "data": {
      "text/plain": [
       "array([-0.        ,  0.        , -0.        , -0.        , -0.        ,\n",
       "        0.        ,  0.        ,  0.        , -0.        ,  0.        ,\n",
       "        4.26184719, -0.        , -0.        , -0.        ])"
      ]
     },
     "execution_count": 25,
     "metadata": {},
     "output_type": "execute_result"
    }
   ],
   "source": [
    "lasso_cv.coef_"
   ]
  },
  {
   "cell_type": "markdown",
   "metadata": {},
   "source": [
    "With this dataframe, I think we should consistently follow the same steps:\n",
    "- Begin with LassoCV and spot the features that are killed by the best model. Create a new_df called Lasso_df\n",
    "- Perform PCA on the scaled df and select the number of PCs you want to work with. Create  a new df called PCA_df. \n",
    "- Now, you have 3 df each you want to play around with. \n",
    "- On everyone of these 3 df, you should try the models: Linear Regression, Lasso Reg, kNN Regression, Tree Based models (SimpleTrees, RF). I think RF will be the best. Do not forget to perform cross-validation for hyperparameter tuning and we should be consistent with the scoring metrics and use mse."
   ]
  },
  {
   "cell_type": "markdown",
   "metadata": {},
   "source": [
    "# PCA"
   ]
  },
  {
   "cell_type": "code",
   "execution_count": 26,
   "metadata": {},
   "outputs": [
    {
     "data": {
      "text/plain": [
       "Text(0, 0.5, 'PCA Dimention 2')"
      ]
     },
     "execution_count": 26,
     "metadata": {},
     "output_type": "execute_result"
    },
    {
     "data": {
      "image/png": "[encoded data removed]",
      "text/plain": [
       "<Figure size 432x288 with 1 Axes>"
      ]
     },
     "metadata": {
      "needs_background": "light"
     },
     "output_type": "display_data"
    }
   ],
   "source": [
    "pca_transformer = PCA().fit(X_train_scaled)\n",
    "X_train_pca = pca_transformer.transform(X_train_scaled)\n",
    "X_test_pca = pca_transformer.transform(X_test_scaled)\n",
    "# notice that we set up lists to track each group's plotting color and label\n",
    "plt.scatter(X_train_pca[:,0], X_train_pca[:,1])\n",
    "\n",
    "# all plots need labels\n",
    "plt.xlabel(\"PCA Dimension 1\")\n",
    "plt.ylabel(\"PCA Dimention 2\")"
   ]
  },
  {
   "cell_type": "code",
   "execution_count": 28,
   "metadata": {},
   "outputs": [
    {
     "data": {
      "text/plain": [
       "Text(0.5, 1.0, 'Weights of features in the 2 first PCs')"
      ]
     },
     "execution_count": 28,
     "metadata": {},
     "output_type": "execute_result"
    },
    {
     "data": {
      "image/png": "[encoded data removed]",
      "text/plain": [
       "<Figure size 720x360 with 1 Axes>"
      ]
     },
     "metadata": {
      "needs_background": "light"
     },
     "output_type": "display_data"
    }
   ],
   "source": [
    "feature_weights_0=pca_transformer.components_[0]\n",
    "feature_weights_1=pca_transformer.components_[1]\n",
    "x=np.asarray(range(len(feature_weights_0)))\n",
    "idx = np.argsort(feature_weights_0)\n",
    "\n",
    "feature_weights_0 = feature_weights_0[idx]\n",
    "\n",
    "plt.figure(figsize=(10,5))\n",
    "plt.bar(range(len(feature_weights_0)),feature_weights_0, color='blue', alpha=0.5, label='Feature weighs for PC 1')\n",
    "plt.bar(range(len(feature_weights_0)),feature_weights_1, color='red', alpha=0.5, label='Feature weighs for PC 2')\n",
    "plt.xlabel('Number of the feature')\n",
    "plt.ylabel('Weight')\n",
    "plt.legend()\n",
    "plt.title(\"Weights of features in the 2 first PCs\")"
   ]
  },
  {
   "cell_type": "code",
   "execution_count": 33,
   "metadata": {},
   "outputs": [
    {
     "name": "stdout",
     "output_type": "stream",
     "text": [
      "Variance explained by the 2 first PCA components is: 0.48\n"
     ]
    }
   ],
   "source": [
    "var_explained = pca_transformer.explained_variance_ratio_\n",
    "print(\"Variance explained by the 2 first PCA components is:\", round(var_explained[0]+var_explained[1],2))"
   ]
  },
  {
   "cell_type": "code",
   "execution_count": 34,
   "metadata": {},
   "outputs": [
    {
     "name": "stdout",
     "output_type": "stream",
     "text": [
      "The number of PCA vectors needed so that 90% of the variability in the predictors is explained is: 8\n"
     ]
    }
   ],
   "source": [
    "max=0.9\n",
    "sum=0\n",
    "i=0\n",
    "while sum < max:\n",
    "    sum+=var_explained[i]\n",
    "    i+=1\n",
    "print('The number of PCA vectors needed so that 90% of the variability in the predictors is explained is:', i)"
   ]
  },
  {
   "cell_type": "code",
   "execution_count": 35,
   "metadata": {},
   "outputs": [
    {
     "data": {
      "text/plain": [
       "Text(0.5, 1.0, 'Cumulative explained variability against the number of PCA components used ')"
      ]
     },
     "execution_count": 35,
     "metadata": {},
     "output_type": "execute_result"
    },
    {
     "data": {
      "image/png": "[encoded data removed]",
      "text/plain": [
       "<Figure size 432x288 with 1 Axes>"
      ]
     },
     "metadata": {
      "needs_background": "light"
     },
     "output_type": "display_data"
    }
   ],
   "source": [
    "number_pca=[i for i in range(len(var_explained))]\n",
    "cumulative_var_explained=[]\n",
    "s=0\n",
    "for i in range(len(var_explained)):\n",
    "    s+=var_explained[i]\n",
    "    cumulative_var_explained.append(s)\n",
    "\n",
    "line=[0.9 for i in range(len(var_explained))]\n",
    "\n",
    "plt.plot(number_pca,cumulative_var_explained, label='Explained variance')\n",
    "plt.plot(number_pca,line, color='red', label='90% explained variance')\n",
    "plt.xlabel('Number of PCA components used')\n",
    "plt.ylabel('Cumulative explained variability')\n",
    "plt.title('Cumulative explained variability against the number of PCA components used ')"
   ]
  },
  {
   "cell_type": "markdown",
   "metadata": {},
   "source": [
    "We will test 3 number of PCs:\n",
    "- 2 that explain 61% of the variance\n",
    "- 8 that explain 90% of the variance"
   ]
  },
  {
   "cell_type": "markdown",
   "metadata": {},
   "source": [
    "# Models"
   ]
  },
  {
   "cell_type": "code",
   "execution_count": 38,
   "metadata": {},
   "outputs": [],
   "source": [
    "x_2=X_train_pca[:,0:2]\n",
    "x_8=X_train_pca[:,0:8]\n",
    "\n",
    "x_2_test=X_test_pca[:,0:2]\n",
    "x_8_test=X_test_pca[:,0:8]"
   ]
  },
  {
   "cell_type": "markdown",
   "metadata": {},
   "source": [
    "## Linear regression"
   ]
  },
  {
   "cell_type": "markdown",
   "metadata": {},
   "source": [
    "### With 2 PCs"
   ]
  },
  {
   "cell_type": "code",
   "execution_count": 45,
   "metadata": {},
   "outputs": [
    {
     "data": {
      "text/html": [
       "<div>\n",
       "<style scoped>\n",
       "    .dataframe tbody tr th:only-of-type {\n",
       "        vertical-align: middle;\n",
       "    }\n",
       "\n",
       "    .dataframe tbody tr th {\n",
       "        vertical-align: top;\n",
       "    }\n",
       "\n",
       "    .dataframe thead th {\n",
       "        text-align: right;\n",
       "    }\n",
       "</style>\n",
       "<table border=\"1\" class=\"dataframe\">\n",
       "  <thead>\n",
       "    <tr style=\"text-align: right;\">\n",
       "      <th></th>\n",
       "      <th>MSE</th>\n",
       "      <th>Prediction for Trump</th>\n",
       "      <th>Prediction for Biden</th>\n",
       "    </tr>\n",
       "  </thead>\n",
       "  <tbody>\n",
       "    <tr>\n",
       "      <td>Simple linear regression with 2 scaled PCs</td>\n",
       "      <td>33.278189</td>\n",
       "      <td>47.969881</td>\n",
       "      <td>48.049588</td>\n",
       "    </tr>\n",
       "  </tbody>\n",
       "</table>\n",
       "</div>"
      ],
      "text/plain": [
       "                                                  MSE  Prediction for Trump  Prediction for Biden\n",
       "Simple linear regression with 2 scaled PCs  33.278189             47.969881             48.049588"
      ]
     },
     "execution_count": 45,
     "metadata": {},
     "output_type": "execute_result"
    }
   ],
   "source": [
    "lin_2 = LinearRegression()\n",
    "lin_2.fit(x_2, y_train)\n",
    "\n",
    "y_pred_test = lin_2.predict(x_2_test) \n",
    "y_pred_train = lin_2.predict(x_2) \n",
    "\n",
    "#Compute the MSE\n",
    "mse = mean_squared_error(y_train, y_pred_train)\n",
    "\n",
    "scores = [[mse, y_pred_test[0], y_pred_test[1]]]\n",
    "names = ['Simple linear regression with 2 scaled PCs']\n",
    "df_results = pd.DataFrame(scores, index=names, columns=['MSE', 'Prediction for Trump', 'Prediction for Biden'])\n",
    "df_results"
   ]
  },
  {
   "cell_type": "markdown",
   "metadata": {},
   "source": [
    "### With 8 PCs"
   ]
  },
  {
   "cell_type": "code",
   "execution_count": 46,
   "metadata": {},
   "outputs": [
    {
     "data": {
      "text/html": [
       "<div>\n",
       "<style scoped>\n",
       "    .dataframe tbody tr th:only-of-type {\n",
       "        vertical-align: middle;\n",
       "    }\n",
       "\n",
       "    .dataframe tbody tr th {\n",
       "        vertical-align: top;\n",
       "    }\n",
       "\n",
       "    .dataframe thead th {\n",
       "        text-align: right;\n",
       "    }\n",
       "</style>\n",
       "<table border=\"1\" class=\"dataframe\">\n",
       "  <thead>\n",
       "    <tr style=\"text-align: right;\">\n",
       "      <th></th>\n",
       "      <th>MSE</th>\n",
       "      <th>Prediction for Trump</th>\n",
       "      <th>Prediction for Biden</th>\n",
       "    </tr>\n",
       "  </thead>\n",
       "  <tbody>\n",
       "    <tr>\n",
       "      <td>Simple linear regression with 2 scaled PCs</td>\n",
       "      <td>33.278189</td>\n",
       "      <td>47.969881</td>\n",
       "      <td>48.049588</td>\n",
       "    </tr>\n",
       "    <tr>\n",
       "      <td>Simple linear regression with 8 scaled PCs</td>\n",
       "      <td>6.995664</td>\n",
       "      <td>43.522513</td>\n",
       "      <td>48.376796</td>\n",
       "    </tr>\n",
       "  </tbody>\n",
       "</table>\n",
       "</div>"
      ],
      "text/plain": [
       "                                                  MSE  Prediction for Trump  Prediction for Biden\n",
       "Simple linear regression with 2 scaled PCs  33.278189             47.969881             48.049588\n",
       "Simple linear regression with 8 scaled PCs   6.995664             43.522513             48.376796"
      ]
     },
     "execution_count": 46,
     "metadata": {},
     "output_type": "execute_result"
    }
   ],
   "source": [
    "lin_8 = LinearRegression()\n",
    "lin_8.fit(x_8, y_train)\n",
    "\n",
    "y_pred_test = lin_8.predict(x_8_test) \n",
    "y_pred_train = lin_8.predict(x_8) \n",
    "\n",
    "#Compute the MSE\n",
    "mse = mean_squared_error(y_train, y_pred_train)\n",
    "\n",
    "scores.append([mse, y_pred_test[0], y_pred_test[1]])\n",
    "names.append('Simple linear regression with 8 scaled PCs')\n",
    "df_results = pd.DataFrame(scores, index=names, columns=['MSE', 'Prediction for Trump', 'Prediction for Biden'])\n",
    "df_results"
   ]
  },
  {
   "cell_type": "markdown",
   "metadata": {},
   "source": [
    "## Lasso regularization"
   ]
  },
  {
   "cell_type": "markdown",
   "metadata": {},
   "source": [
    "### With 2 PCs"
   ]
  },
  {
   "cell_type": "code",
   "execution_count": 47,
   "metadata": {
    "scrolled": true
   },
   "outputs": [
    {
     "data": {
      "text/html": [
       "<div>\n",
       "<style scoped>\n",
       "    .dataframe tbody tr th:only-of-type {\n",
       "        vertical-align: middle;\n",
       "    }\n",
       "\n",
       "    .dataframe tbody tr th {\n",
       "        vertical-align: top;\n",
       "    }\n",
       "\n",
       "    .dataframe thead th {\n",
       "        text-align: right;\n",
       "    }\n",
       "</style>\n",
       "<table border=\"1\" class=\"dataframe\">\n",
       "  <thead>\n",
       "    <tr style=\"text-align: right;\">\n",
       "      <th></th>\n",
       "      <th>MSE</th>\n",
       "      <th>Prediction for Trump</th>\n",
       "      <th>Prediction for Biden</th>\n",
       "    </tr>\n",
       "  </thead>\n",
       "  <tbody>\n",
       "    <tr>\n",
       "      <td>Simple linear regression with 2 scaled PCs</td>\n",
       "      <td>33.278189</td>\n",
       "      <td>47.969881</td>\n",
       "      <td>48.049588</td>\n",
       "    </tr>\n",
       "    <tr>\n",
       "      <td>Simple linear regression with 8 scaled PCs</td>\n",
       "      <td>6.995664</td>\n",
       "      <td>43.522513</td>\n",
       "      <td>48.376796</td>\n",
       "    </tr>\n",
       "    <tr>\n",
       "      <td>Lasso regression with 2 scaled PCs, alpha=0.01</td>\n",
       "      <td>33.285789</td>\n",
       "      <td>48.139750</td>\n",
       "      <td>48.212818</td>\n",
       "    </tr>\n",
       "  </tbody>\n",
       "</table>\n",
       "</div>"
      ],
      "text/plain": [
       "                                                      MSE  Prediction for Trump  Prediction for Biden\n",
       "Simple linear regression with 2 scaled PCs      33.278189             47.969881             48.049588\n",
       "Simple linear regression with 8 scaled PCs       6.995664             43.522513             48.376796\n",
       "Lasso regression with 2 scaled PCs, alpha=0.01  33.285789             48.139750             48.212818"
      ]
     },
     "execution_count": 47,
     "metadata": {},
     "output_type": "execute_result"
    }
   ],
   "source": [
    "lasso_reg_2 = Lasso(alpha=0.1, normalize=True)\n",
    "lasso_reg_2.fit(x_2, y_train)\n",
    "\n",
    "y_pred_test = lasso_reg_2.predict(x_2_test)\n",
    "y_pred_train = lasso_reg_2.predict(x_2)\n",
    "\n",
    "mse = mean_squared_error(y_train, y_pred_train)\n",
    "\n",
    "scores.append([mse, y_pred_test[0], y_pred_test[1]])\n",
    "names.append('Lasso regression with 2 scaled PCs, alpha=0.01')\n",
    "df_results = pd.DataFrame(scores, index=names, columns=['MSE', 'Prediction for Trump', 'Prediction for Biden'])\n",
    "df_results"
   ]
  },
  {
   "cell_type": "code",
   "execution_count": 48,
   "metadata": {},
   "outputs": [
    {
     "data": {
      "text/html": [
       "<div>\n",
       "<style scoped>\n",
       "    .dataframe tbody tr th:only-of-type {\n",
       "        vertical-align: middle;\n",
       "    }\n",
       "\n",
       "    .dataframe tbody tr th {\n",
       "        vertical-align: top;\n",
       "    }\n",
       "\n",
       "    .dataframe thead th {\n",
       "        text-align: right;\n",
       "    }\n",
       "</style>\n",
       "<table border=\"1\" class=\"dataframe\">\n",
       "  <thead>\n",
       "    <tr style=\"text-align: right;\">\n",
       "      <th></th>\n",
       "      <th>MSE</th>\n",
       "      <th>Prediction for Trump</th>\n",
       "      <th>Prediction for Biden</th>\n",
       "    </tr>\n",
       "  </thead>\n",
       "  <tbody>\n",
       "    <tr>\n",
       "      <td>Simple linear regression with 2 scaled PCs</td>\n",
       "      <td>33.278189</td>\n",
       "      <td>47.969881</td>\n",
       "      <td>48.049588</td>\n",
       "    </tr>\n",
       "    <tr>\n",
       "      <td>Simple linear regression with 8 scaled PCs</td>\n",
       "      <td>6.995664</td>\n",
       "      <td>43.522513</td>\n",
       "      <td>48.376796</td>\n",
       "    </tr>\n",
       "    <tr>\n",
       "      <td>Lasso regression with 2 scaled PCs, alpha=0.01</td>\n",
       "      <td>33.285789</td>\n",
       "      <td>48.139750</td>\n",
       "      <td>48.212818</td>\n",
       "    </tr>\n",
       "    <tr>\n",
       "      <td>Lasso regression with 2 scaled PCs, cv=2</td>\n",
       "      <td>33.284793</td>\n",
       "      <td>48.103322</td>\n",
       "      <td>48.176621</td>\n",
       "    </tr>\n",
       "  </tbody>\n",
       "</table>\n",
       "</div>"
      ],
      "text/plain": [
       "                                                      MSE  Prediction for Trump  Prediction for Biden\n",
       "Simple linear regression with 2 scaled PCs      33.278189             47.969881             48.049588\n",
       "Simple linear regression with 8 scaled PCs       6.995664             43.522513             48.376796\n",
       "Lasso regression with 2 scaled PCs, alpha=0.01  33.285789             48.139750             48.212818\n",
       "Lasso regression with 2 scaled PCs, cv=2        33.284793             48.103322             48.176621"
      ]
     },
     "execution_count": 48,
     "metadata": {},
     "output_type": "execute_result"
    }
   ],
   "source": [
    "from sklearn.linear_model import LassoCV\n",
    "\n",
    "alphas=[0.001,0.01, 0.1, 1, 10, 100]\n",
    "\n",
    "lasso_reg_2 = LassoCV(cv=2, alphas=alphas)\n",
    "lasso_reg_2.fit(x_2, y_train)\n",
    "\n",
    "y_pred_test = lasso_reg_2.predict(x_2_test)\n",
    "y_pred_train = lasso_reg_2.predict(x_2)\n",
    "\n",
    "mse = mean_squared_error(y_train, y_pred_train)\n",
    "\n",
    "scores.append([mse, y_pred_test[0], y_pred_test[1]])\n",
    "names.append('Lasso regression with 2 scaled PCs, cv=2')\n",
    "df_results = pd.DataFrame(scores, index=names, columns=['MSE', 'Prediction for Trump', 'Prediction for Biden'])\n",
    "df_results"
   ]
  },
  {
   "cell_type": "code",
   "execution_count": 50,
   "metadata": {},
   "outputs": [
    {
     "data": {
      "text/plain": [
       "0.1"
      ]
     },
     "execution_count": 50,
     "metadata": {},
     "output_type": "execute_result"
    }
   ],
   "source": [
    "lasso_reg_2.alpha_"
   ]
  },
  {
   "cell_type": "markdown",
   "metadata": {},
   "source": [
    "### With 8 PCs"
   ]
  },
  {
   "cell_type": "code",
   "execution_count": 51,
   "metadata": {},
   "outputs": [
    {
     "data": {
      "text/html": [
       "<div>\n",
       "<style scoped>\n",
       "    .dataframe tbody tr th:only-of-type {\n",
       "        vertical-align: middle;\n",
       "    }\n",
       "\n",
       "    .dataframe tbody tr th {\n",
       "        vertical-align: top;\n",
       "    }\n",
       "\n",
       "    .dataframe thead th {\n",
       "        text-align: right;\n",
       "    }\n",
       "</style>\n",
       "<table border=\"1\" class=\"dataframe\">\n",
       "  <thead>\n",
       "    <tr style=\"text-align: right;\">\n",
       "      <th></th>\n",
       "      <th>MSE</th>\n",
       "      <th>Prediction for Trump</th>\n",
       "      <th>Prediction for Biden</th>\n",
       "    </tr>\n",
       "  </thead>\n",
       "  <tbody>\n",
       "    <tr>\n",
       "      <td>Simple linear regression with 2 scaled PCs</td>\n",
       "      <td>33.278189</td>\n",
       "      <td>47.969881</td>\n",
       "      <td>48.049588</td>\n",
       "    </tr>\n",
       "    <tr>\n",
       "      <td>Simple linear regression with 8 scaled PCs</td>\n",
       "      <td>6.995664</td>\n",
       "      <td>43.522513</td>\n",
       "      <td>48.376796</td>\n",
       "    </tr>\n",
       "    <tr>\n",
       "      <td>Lasso regression with 2 scaled PCs, alpha=0.01</td>\n",
       "      <td>33.285789</td>\n",
       "      <td>48.139750</td>\n",
       "      <td>48.212818</td>\n",
       "    </tr>\n",
       "    <tr>\n",
       "      <td>Lasso regression with 2 scaled PCs, cv=2</td>\n",
       "      <td>33.284793</td>\n",
       "      <td>48.103322</td>\n",
       "      <td>48.176621</td>\n",
       "    </tr>\n",
       "    <tr>\n",
       "      <td>Lasso regression with 8 scaled PCs, alpha=0.1</td>\n",
       "      <td>8.958337</td>\n",
       "      <td>46.805599</td>\n",
       "      <td>50.664111</td>\n",
       "    </tr>\n",
       "  </tbody>\n",
       "</table>\n",
       "</div>"
      ],
      "text/plain": [
       "                                                      MSE  Prediction for Trump  Prediction for Biden\n",
       "Simple linear regression with 2 scaled PCs      33.278189             47.969881             48.049588\n",
       "Simple linear regression with 8 scaled PCs       6.995664             43.522513             48.376796\n",
       "Lasso regression with 2 scaled PCs, alpha=0.01  33.285789             48.139750             48.212818\n",
       "Lasso regression with 2 scaled PCs, cv=2        33.284793             48.103322             48.176621\n",
       "Lasso regression with 8 scaled PCs, alpha=0.1    8.958337             46.805599             50.664111"
      ]
     },
     "execution_count": 51,
     "metadata": {},
     "output_type": "execute_result"
    }
   ],
   "source": [
    "lasso_reg_8 = Lasso(alpha=0.1, normalize=True)\n",
    "lasso_reg_8.fit(x_8, y_train)\n",
    "\n",
    "y_pred_test = lasso_reg_8.predict(x_8_test) \n",
    "y_pred_train = lasso_reg_8.predict(x_8) \n",
    "\n",
    "#Compute the MSE\n",
    "mse = mean_squared_error(y_train, y_pred_train)\n",
    "\n",
    "scores.append([mse, y_pred_test[0], y_pred_test[1]])\n",
    "names.append('Lasso regression with 8 scaled PCs, alpha=0.1')\n",
    "df_results = pd.DataFrame(scores, index=names, columns=['MSE', 'Prediction for Trump', 'Prediction for Biden'])\n",
    "df_results"
   ]
  },
  {
   "cell_type": "code",
   "execution_count": 53,
   "metadata": {},
   "outputs": [
    {
     "data": {
      "text/html": [
       "<div>\n",
       "<style scoped>\n",
       "    .dataframe tbody tr th:only-of-type {\n",
       "        vertical-align: middle;\n",
       "    }\n",
       "\n",
       "    .dataframe tbody tr th {\n",
       "        vertical-align: top;\n",
       "    }\n",
       "\n",
       "    .dataframe thead th {\n",
       "        text-align: right;\n",
       "    }\n",
       "</style>\n",
       "<table border=\"1\" class=\"dataframe\">\n",
       "  <thead>\n",
       "    <tr style=\"text-align: right;\">\n",
       "      <th></th>\n",
       "      <th>MSE</th>\n",
       "      <th>Prediction for Trump</th>\n",
       "      <th>Prediction for Biden</th>\n",
       "    </tr>\n",
       "  </thead>\n",
       "  <tbody>\n",
       "    <tr>\n",
       "      <td>Simple linear regression with 2 scaled PCs</td>\n",
       "      <td>33.278189</td>\n",
       "      <td>47.969881</td>\n",
       "      <td>48.049588</td>\n",
       "    </tr>\n",
       "    <tr>\n",
       "      <td>Simple linear regression with 8 scaled PCs</td>\n",
       "      <td>6.995664</td>\n",
       "      <td>43.522513</td>\n",
       "      <td>48.376796</td>\n",
       "    </tr>\n",
       "    <tr>\n",
       "      <td>Lasso regression with 2 scaled PCs, alpha=0.01</td>\n",
       "      <td>33.285789</td>\n",
       "      <td>48.139750</td>\n",
       "      <td>48.212818</td>\n",
       "    </tr>\n",
       "    <tr>\n",
       "      <td>Lasso regression with 2 scaled PCs, cv=2</td>\n",
       "      <td>33.284793</td>\n",
       "      <td>48.103322</td>\n",
       "      <td>48.176621</td>\n",
       "    </tr>\n",
       "    <tr>\n",
       "      <td>Lasso regression with 8 scaled PCs, alpha=0.1</td>\n",
       "      <td>8.958337</td>\n",
       "      <td>46.805599</td>\n",
       "      <td>50.664111</td>\n",
       "    </tr>\n",
       "    <tr>\n",
       "      <td>Lasso regression with 8 scaled PCs, cv=2</td>\n",
       "      <td>12.129266</td>\n",
       "      <td>46.365773</td>\n",
       "      <td>49.611230</td>\n",
       "    </tr>\n",
       "  </tbody>\n",
       "</table>\n",
       "</div>"
      ],
      "text/plain": [
       "                                                      MSE  Prediction for Trump  Prediction for Biden\n",
       "Simple linear regression with 2 scaled PCs      33.278189             47.969881             48.049588\n",
       "Simple linear regression with 8 scaled PCs       6.995664             43.522513             48.376796\n",
       "Lasso regression with 2 scaled PCs, alpha=0.01  33.285789             48.139750             48.212818\n",
       "Lasso regression with 2 scaled PCs, cv=2        33.284793             48.103322             48.176621\n",
       "Lasso regression with 8 scaled PCs, alpha=0.1    8.958337             46.805599             50.664111\n",
       "Lasso regression with 8 scaled PCs, cv=2        12.129266             46.365773             49.611230"
      ]
     },
     "execution_count": 53,
     "metadata": {},
     "output_type": "execute_result"
    }
   ],
   "source": [
    "alphas=[0.001,0.01, 0.1, 1, 10, 100]\n",
    "\n",
    "lasso_reg_8 = LassoCV(cv=2, alphas=alphas)\n",
    "lasso_reg_8.fit(x_8, y_train)\n",
    "\n",
    "y_pred_test = lasso_reg_8.predict(x_8_test)\n",
    "y_pred_train = lasso_reg_8.predict(x_8)\n",
    "\n",
    "mse = mean_squared_error(y_train, y_pred_train)\n",
    "\n",
    "scores.append([mse, y_pred_test[0], y_pred_test[1]])\n",
    "names.append('Lasso regression with 8 scaled PCs, cv=2')\n",
    "df_results = pd.DataFrame(scores, index=names, columns=['MSE', 'Prediction for Trump', 'Prediction for Biden'])\n",
    "df_results"
   ]
  },
  {
   "cell_type": "markdown",
   "metadata": {},
   "source": [
    "## Knn regression"
   ]
  },
  {
   "cell_type": "markdown",
   "metadata": {},
   "source": [
    "### With 2 PCs"
   ]
  },
  {
   "cell_type": "code",
   "execution_count": null,
   "metadata": {},
   "outputs": [],
   "source": []
  },
  {
   "cell_type": "markdown",
   "metadata": {},
   "source": [
    "### With 8 PCs"
   ]
  },
  {
   "cell_type": "code",
   "execution_count": null,
   "metadata": {},
   "outputs": [],
   "source": []
  },
  {
   "cell_type": "markdown",
   "metadata": {},
   "source": [
    "## Decision tree classifier"
   ]
  },
  {
   "cell_type": "markdown",
   "metadata": {},
   "source": [
    "### With 2 PCs"
   ]
  },
  {
   "cell_type": "code",
   "execution_count": null,
   "metadata": {},
   "outputs": [],
   "source": []
  },
  {
   "cell_type": "markdown",
   "metadata": {},
   "source": [
    "### With 8 PCs"
   ]
  },
  {
   "cell_type": "code",
   "execution_count": null,
   "metadata": {},
   "outputs": [],
   "source": []
  },
  {
   "cell_type": "markdown",
   "metadata": {},
   "source": [
    "## Random forest"
   ]
  },
  {
   "cell_type": "markdown",
   "metadata": {},
   "source": [
    "### With 2 PCs"
   ]
  },
  {
   "cell_type": "code",
   "execution_count": null,
   "metadata": {},
   "outputs": [],
   "source": []
  },
  {
   "cell_type": "markdown",
   "metadata": {},
   "source": [
    "### With 8 PCs"
   ]
  },
  {
   "cell_type": "code",
   "execution_count": null,
   "metadata": {},
   "outputs": [],
   "source": []
  },
  {
   "cell_type": "code",
   "execution_count": null,
   "metadata": {},
   "outputs": [],
   "source": []
  }
 ],
 "metadata": {
  "kernelspec": {
   "display_name": "Python 3",
   "language": "python",
   "name": "python3"
  },
  "language_info": {
   "codemirror_mode": {
    "name": "ipython",
    "version": 3
   },
   "file_extension": ".py",
   "mimetype": "text/x-python",
   "name": "python",
   "nbconvert_exporter": "python",
   "pygments_lexer": "ipython3",
   "version": "3.7.4"
  }
 },
 "nbformat": 4,
 "nbformat_minor": 2
}
