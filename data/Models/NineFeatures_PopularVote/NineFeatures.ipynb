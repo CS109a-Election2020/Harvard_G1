{
 "cells": [
  {
   "cell_type": "code",
   "execution_count": 239,
   "metadata": {},
   "outputs": [],
   "source": [
    "import numpy as np\n",
    "import pandas as pd\n",
    "import matplotlib.pyplot as plt\n",
    "\n",
    "from sklearn.metrics import mean_squared_error\n",
    "from sklearn.metrics import r2_score\n",
    "from sklearn.model_selection import cross_val_score\n",
    "from sklearn.model_selection import cross_validate\n",
    "from sklearn.utils import resample\n",
    "from sklearn.neighbors import KNeighborsRegressor\n",
    "from sklearn.linear_model import LinearRegression\n",
    "from sklearn.linear_model import Lasso\n",
    "from sklearn.linear_model import LassoCV\n",
    "from sklearn.tree import DecisionTreeRegressor\n",
    "from sklearn.ensemble import RandomForestRegressor\n",
    "from sklearn.ensemble import AdaBoostRegressor\n",
    "from sklearn.metrics import accuracy_score\n",
    "from sklearn.preprocessing import StandardScaler\n",
    "from sklearn.decomposition import PCA\n",
    "from sklearn.model_selection import GridSearchCV\n",
    "\n",
    "%matplotlib inline\n",
    "\n",
    "import seaborn as sns\n",
    "sns.set(style='whitegrid')\n",
    "pd.set_option('display.width', 1500)\n",
    "pd.set_option('display.max_columns', 100)"
   ]
  },
  {
   "cell_type": "code",
   "execution_count": 240,
   "metadata": {},
   "outputs": [],
   "source": [
    "df = pd.read_csv('Merged_Fundamentals_and_Polls/Remastered_df_10pred.csv')"
   ]
  },
  {
   "cell_type": "code",
   "execution_count": 241,
   "metadata": {},
   "outputs": [
    {
     "data": {
      "text/html": [
       "<div>\n",
       "<style scoped>\n",
       "    .dataframe tbody tr th:only-of-type {\n",
       "        vertical-align: middle;\n",
       "    }\n",
       "\n",
       "    .dataframe tbody tr th {\n",
       "        vertical-align: top;\n",
       "    }\n",
       "\n",
       "    .dataframe thead th {\n",
       "        text-align: right;\n",
       "    }\n",
       "</style>\n",
       "<table border=\"1\" class=\"dataframe\">\n",
       "  <thead>\n",
       "    <tr style=\"text-align: right;\">\n",
       "      <th></th>\n",
       "      <th>Unnamed: 0</th>\n",
       "      <th>Democrat_Republican</th>\n",
       "      <th>popular_vote_percentage</th>\n",
       "      <th>NAP</th>\n",
       "      <th>payroll</th>\n",
       "      <th>stock</th>\n",
       "      <th>rdi</th>\n",
       "      <th>election</th>\n",
       "      <th>national_polls</th>\n",
       "      <th>gdp</th>\n",
       "      <th>state_election</th>\n",
       "      <th>Winner</th>\n",
       "    </tr>\n",
       "  </thead>\n",
       "  <tbody>\n",
       "    <tr>\n",
       "      <th>0</th>\n",
       "      <td>0</td>\n",
       "      <td>1</td>\n",
       "      <td>49.55</td>\n",
       "      <td>0.825641</td>\n",
       "      <td>0.234242</td>\n",
       "      <td>-9.718823</td>\n",
       "      <td>-1.423503</td>\n",
       "      <td>0.031317</td>\n",
       "      <td>1.083528</td>\n",
       "      <td>-0.089281</td>\n",
       "      <td>0.0</td>\n",
       "      <td>1</td>\n",
       "    </tr>\n",
       "    <tr>\n",
       "      <th>1</th>\n",
       "      <td>1</td>\n",
       "      <td>0</td>\n",
       "      <td>45.07</td>\n",
       "      <td>0.825641</td>\n",
       "      <td>0.234242</td>\n",
       "      <td>-9.718823</td>\n",
       "      <td>-1.423503</td>\n",
       "      <td>0.031317</td>\n",
       "      <td>0.377789</td>\n",
       "      <td>-0.089281</td>\n",
       "      <td>0.0</td>\n",
       "      <td>0</td>\n",
       "    </tr>\n",
       "    <tr>\n",
       "      <th>2</th>\n",
       "      <td>2</td>\n",
       "      <td>0</td>\n",
       "      <td>55.18</td>\n",
       "      <td>-0.310126</td>\n",
       "      <td>0.261147</td>\n",
       "      <td>-1.243207</td>\n",
       "      <td>9.327366</td>\n",
       "      <td>0.115117</td>\n",
       "      <td>-0.339976</td>\n",
       "      <td>0.243113</td>\n",
       "      <td>-1.0</td>\n",
       "      <td>1</td>\n",
       "    </tr>\n",
       "    <tr>\n",
       "      <th>3</th>\n",
       "      <td>3</td>\n",
       "      <td>1</td>\n",
       "      <td>44.33</td>\n",
       "      <td>-0.310126</td>\n",
       "      <td>0.261147</td>\n",
       "      <td>-1.243207</td>\n",
       "      <td>9.327366</td>\n",
       "      <td>0.115117</td>\n",
       "      <td>0.145107</td>\n",
       "      <td>0.243113</td>\n",
       "      <td>-1.0</td>\n",
       "      <td>0</td>\n",
       "    </tr>\n",
       "    <tr>\n",
       "      <th>4</th>\n",
       "      <td>4</td>\n",
       "      <td>0</td>\n",
       "      <td>57.37</td>\n",
       "      <td>0.277996</td>\n",
       "      <td>0.160302</td>\n",
       "      <td>-16.387651</td>\n",
       "      <td>6.012349</td>\n",
       "      <td>0.055845</td>\n",
       "      <td>0.396180</td>\n",
       "      <td>0.158822</td>\n",
       "      <td>1.0</td>\n",
       "      <td>1</td>\n",
       "    </tr>\n",
       "  </tbody>\n",
       "</table>\n",
       "</div>"
      ],
      "text/plain": [
       "   Unnamed: 0  Democrat_Republican  popular_vote_percentage       NAP   payroll      stock       rdi  election  national_polls       gdp  state_election  Winner\n",
       "0           0                    1                    49.55  0.825641  0.234242  -9.718823 -1.423503  0.031317        1.083528 -0.089281             0.0       1\n",
       "1           1                    0                    45.07  0.825641  0.234242  -9.718823 -1.423503  0.031317        0.377789 -0.089281             0.0       0\n",
       "2           2                    0                    55.18 -0.310126  0.261147  -1.243207  9.327366  0.115117       -0.339976  0.243113            -1.0       1\n",
       "3           3                    1                    44.33 -0.310126  0.261147  -1.243207  9.327366  0.115117        0.145107  0.243113            -1.0       0\n",
       "4           4                    0                    57.37  0.277996  0.160302 -16.387651  6.012349  0.055845        0.396180  0.158822             1.0       1"
      ]
     },
     "metadata": {},
     "output_type": "display_data"
    }
   ],
   "source": [
    "display(df.head())"
   ]
  },
  {
   "cell_type": "code",
   "execution_count": 242,
   "metadata": {},
   "outputs": [],
   "source": [
    "X = df.drop(['Unnamed: 0', 'popular_vote_percentage', 'Winner'], axis=1)\n",
    "Y = df['popular_vote_percentage']\n",
    "X_train = X.drop([36,37]).values\n",
    "y_train = Y.drop([36,37]).values\n",
    "X_test = X.iloc[[36,37]].values\n",
    "y_test = Y.iloc[[36,37]].values"
   ]
  },
  {
   "cell_type": "code",
   "execution_count": 243,
   "metadata": {},
   "outputs": [
    {
     "data": {
      "text/html": [
       "<div>\n",
       "<style scoped>\n",
       "    .dataframe tbody tr th:only-of-type {\n",
       "        vertical-align: middle;\n",
       "    }\n",
       "\n",
       "    .dataframe tbody tr th {\n",
       "        vertical-align: top;\n",
       "    }\n",
       "\n",
       "    .dataframe thead th {\n",
       "        text-align: right;\n",
       "    }\n",
       "</style>\n",
       "<table border=\"1\" class=\"dataframe\">\n",
       "  <thead>\n",
       "    <tr style=\"text-align: right;\">\n",
       "      <th></th>\n",
       "      <th>NAP</th>\n",
       "      <th>payroll</th>\n",
       "      <th>stock</th>\n",
       "      <th>rdi</th>\n",
       "      <th>election</th>\n",
       "      <th>national_polls</th>\n",
       "      <th>gdp</th>\n",
       "      <th>Democrat_Republican</th>\n",
       "      <th>state_election</th>\n",
       "    </tr>\n",
       "  </thead>\n",
       "  <tbody>\n",
       "    <tr>\n",
       "      <th>0</th>\n",
       "      <td>2.317666</td>\n",
       "      <td>0.694822</td>\n",
       "      <td>-0.191417</td>\n",
       "      <td>-0.443721</td>\n",
       "      <td>-0.043218</td>\n",
       "      <td>2.009872</td>\n",
       "      <td>-2.811254</td>\n",
       "      <td>1</td>\n",
       "      <td>0.0</td>\n",
       "    </tr>\n",
       "    <tr>\n",
       "      <th>1</th>\n",
       "      <td>2.317666</td>\n",
       "      <td>0.694822</td>\n",
       "      <td>-0.191417</td>\n",
       "      <td>-0.443721</td>\n",
       "      <td>-0.043218</td>\n",
       "      <td>0.271941</td>\n",
       "      <td>-2.811254</td>\n",
       "      <td>0</td>\n",
       "      <td>0.0</td>\n",
       "    </tr>\n",
       "    <tr>\n",
       "      <th>2</th>\n",
       "      <td>-1.618086</td>\n",
       "      <td>0.816498</td>\n",
       "      <td>0.393234</td>\n",
       "      <td>1.600343</td>\n",
       "      <td>1.549956</td>\n",
       "      <td>-1.495606</td>\n",
       "      <td>2.293957</td>\n",
       "      <td>0</td>\n",
       "      <td>-1.0</td>\n",
       "    </tr>\n",
       "    <tr>\n",
       "      <th>3</th>\n",
       "      <td>-1.618086</td>\n",
       "      <td>0.816498</td>\n",
       "      <td>0.393234</td>\n",
       "      <td>1.600343</td>\n",
       "      <td>1.549956</td>\n",
       "      <td>-0.301056</td>\n",
       "      <td>2.293957</td>\n",
       "      <td>1</td>\n",
       "      <td>-1.0</td>\n",
       "    </tr>\n",
       "    <tr>\n",
       "      <th>4</th>\n",
       "      <td>0.419923</td>\n",
       "      <td>0.360434</td>\n",
       "      <td>-0.651435</td>\n",
       "      <td>0.970059</td>\n",
       "      <td>0.423092</td>\n",
       "      <td>0.317229</td>\n",
       "      <td>0.999344</td>\n",
       "      <td>0</td>\n",
       "      <td>1.0</td>\n",
       "    </tr>\n",
       "    <tr>\n",
       "      <th>5</th>\n",
       "      <td>0.419923</td>\n",
       "      <td>0.360434</td>\n",
       "      <td>-0.651435</td>\n",
       "      <td>0.970059</td>\n",
       "      <td>0.423092</td>\n",
       "      <td>-0.326338</td>\n",
       "      <td>0.999344</td>\n",
       "      <td>1</td>\n",
       "      <td>1.0</td>\n",
       "    </tr>\n",
       "    <tr>\n",
       "      <th>6</th>\n",
       "      <td>0.011446</td>\n",
       "      <td>0.036944</td>\n",
       "      <td>-0.169566</td>\n",
       "      <td>0.769470</td>\n",
       "      <td>-1.287107</td>\n",
       "      <td>0.063623</td>\n",
       "      <td>0.379243</td>\n",
       "      <td>1</td>\n",
       "      <td>-1.0</td>\n",
       "    </tr>\n",
       "    <tr>\n",
       "      <th>7</th>\n",
       "      <td>0.011446</td>\n",
       "      <td>0.036944</td>\n",
       "      <td>-0.169566</td>\n",
       "      <td>0.769470</td>\n",
       "      <td>-1.287107</td>\n",
       "      <td>0.013565</td>\n",
       "      <td>0.379243</td>\n",
       "      <td>0</td>\n",
       "      <td>-1.0</td>\n",
       "    </tr>\n",
       "    <tr>\n",
       "      <th>8</th>\n",
       "      <td>-0.744231</td>\n",
       "      <td>0.323772</td>\n",
       "      <td>-0.014344</td>\n",
       "      <td>0.312956</td>\n",
       "      <td>0.338592</td>\n",
       "      <td>-0.900030</td>\n",
       "      <td>0.806024</td>\n",
       "      <td>1</td>\n",
       "      <td>1.0</td>\n",
       "    </tr>\n",
       "    <tr>\n",
       "      <th>9</th>\n",
       "      <td>-0.744231</td>\n",
       "      <td>0.323772</td>\n",
       "      <td>-0.014344</td>\n",
       "      <td>0.312956</td>\n",
       "      <td>0.338592</td>\n",
       "      <td>3.529049</td>\n",
       "      <td>0.806024</td>\n",
       "      <td>0</td>\n",
       "      <td>1.0</td>\n",
       "    </tr>\n",
       "    <tr>\n",
       "      <th>10</th>\n",
       "      <td>-0.310866</td>\n",
       "      <td>0.606668</td>\n",
       "      <td>-0.107557</td>\n",
       "      <td>-0.252279</td>\n",
       "      <td>0.198035</td>\n",
       "      <td>0.906873</td>\n",
       "      <td>0.072359</td>\n",
       "      <td>1</td>\n",
       "      <td>0.0</td>\n",
       "    </tr>\n",
       "    <tr>\n",
       "      <th>11</th>\n",
       "      <td>-0.310866</td>\n",
       "      <td>0.606668</td>\n",
       "      <td>-0.107557</td>\n",
       "      <td>-0.252279</td>\n",
       "      <td>0.198035</td>\n",
       "      <td>0.149001</td>\n",
       "      <td>0.072359</td>\n",
       "      <td>0</td>\n",
       "      <td>0.0</td>\n",
       "    </tr>\n",
       "    <tr>\n",
       "      <th>12</th>\n",
       "      <td>0.034297</td>\n",
       "      <td>0.369203</td>\n",
       "      <td>0.711918</td>\n",
       "      <td>-0.081166</td>\n",
       "      <td>1.107026</td>\n",
       "      <td>-0.225820</td>\n",
       "      <td>-0.124084</td>\n",
       "      <td>1</td>\n",
       "      <td>1.0</td>\n",
       "    </tr>\n",
       "    <tr>\n",
       "      <th>13</th>\n",
       "      <td>0.034297</td>\n",
       "      <td>0.369203</td>\n",
       "      <td>0.711918</td>\n",
       "      <td>-0.081166</td>\n",
       "      <td>1.107026</td>\n",
       "      <td>-0.456783</td>\n",
       "      <td>-0.124084</td>\n",
       "      <td>0</td>\n",
       "      <td>1.0</td>\n",
       "    </tr>\n",
       "    <tr>\n",
       "      <th>14</th>\n",
       "      <td>0.578420</td>\n",
       "      <td>-0.003607</td>\n",
       "      <td>0.084509</td>\n",
       "      <td>-1.481712</td>\n",
       "      <td>0.122942</td>\n",
       "      <td>1.019268</td>\n",
       "      <td>-0.954256</td>\n",
       "      <td>0</td>\n",
       "      <td>1.0</td>\n",
       "    </tr>\n",
       "    <tr>\n",
       "      <th>15</th>\n",
       "      <td>0.578420</td>\n",
       "      <td>-0.003607</td>\n",
       "      <td>0.084509</td>\n",
       "      <td>-1.481712</td>\n",
       "      <td>0.122942</td>\n",
       "      <td>-1.567691</td>\n",
       "      <td>-0.954256</td>\n",
       "      <td>1</td>\n",
       "      <td>1.0</td>\n",
       "    </tr>\n",
       "    <tr>\n",
       "      <th>16</th>\n",
       "      <td>1.268752</td>\n",
       "      <td>0.154460</td>\n",
       "      <td>0.631563</td>\n",
       "      <td>-0.675783</td>\n",
       "      <td>-0.011863</td>\n",
       "      <td>2.261010</td>\n",
       "      <td>-0.022789</td>\n",
       "      <td>1</td>\n",
       "      <td>1.0</td>\n",
       "    </tr>\n",
       "    <tr>\n",
       "      <th>17</th>\n",
       "      <td>1.268752</td>\n",
       "      <td>0.154460</td>\n",
       "      <td>0.631563</td>\n",
       "      <td>-0.675783</td>\n",
       "      <td>-0.011863</td>\n",
       "      <td>0.168908</td>\n",
       "      <td>-0.022789</td>\n",
       "      <td>0</td>\n",
       "      <td>1.0</td>\n",
       "    </tr>\n",
       "    <tr>\n",
       "      <th>18</th>\n",
       "      <td>-0.502108</td>\n",
       "      <td>0.426535</td>\n",
       "      <td>0.023123</td>\n",
       "      <td>0.589878</td>\n",
       "      <td>0.524624</td>\n",
       "      <td>-0.135038</td>\n",
       "      <td>0.765058</td>\n",
       "      <td>0</td>\n",
       "      <td>1.0</td>\n",
       "    </tr>\n",
       "    <tr>\n",
       "      <th>19</th>\n",
       "      <td>-0.502108</td>\n",
       "      <td>0.426535</td>\n",
       "      <td>0.023123</td>\n",
       "      <td>0.589878</td>\n",
       "      <td>0.524624</td>\n",
       "      <td>-0.986547</td>\n",
       "      <td>0.765058</td>\n",
       "      <td>1</td>\n",
       "      <td>1.0</td>\n",
       "    </tr>\n",
       "    <tr>\n",
       "      <th>20</th>\n",
       "      <td>-0.150340</td>\n",
       "      <td>0.442678</td>\n",
       "      <td>1.220296</td>\n",
       "      <td>0.365692</td>\n",
       "      <td>0.593960</td>\n",
       "      <td>1.295891</td>\n",
       "      <td>0.382612</td>\n",
       "      <td>0</td>\n",
       "      <td>-1.0</td>\n",
       "    </tr>\n",
       "    <tr>\n",
       "      <th>21</th>\n",
       "      <td>-0.150340</td>\n",
       "      <td>0.442678</td>\n",
       "      <td>1.220296</td>\n",
       "      <td>0.365692</td>\n",
       "      <td>0.593960</td>\n",
       "      <td>-2.006252</td>\n",
       "      <td>0.382612</td>\n",
       "      <td>1</td>\n",
       "      <td>-1.0</td>\n",
       "    </tr>\n",
       "    <tr>\n",
       "      <th>22</th>\n",
       "      <td>0.478517</td>\n",
       "      <td>-0.296785</td>\n",
       "      <td>-0.549464</td>\n",
       "      <td>2.372707</td>\n",
       "      <td>0.538290</td>\n",
       "      <td>0.147710</td>\n",
       "      <td>-0.989096</td>\n",
       "      <td>1</td>\n",
       "      <td>1.0</td>\n",
       "    </tr>\n",
       "    <tr>\n",
       "      <th>23</th>\n",
       "      <td>0.478517</td>\n",
       "      <td>-0.296785</td>\n",
       "      <td>-0.549464</td>\n",
       "      <td>2.372707</td>\n",
       "      <td>0.538290</td>\n",
       "      <td>-0.194180</td>\n",
       "      <td>-0.989096</td>\n",
       "      <td>0</td>\n",
       "      <td>1.0</td>\n",
       "    </tr>\n",
       "    <tr>\n",
       "      <th>24</th>\n",
       "      <td>0.314950</td>\n",
       "      <td>0.316662</td>\n",
       "      <td>2.393224</td>\n",
       "      <td>0.005989</td>\n",
       "      <td>0.611786</td>\n",
       "      <td>-0.342111</td>\n",
       "      <td>-0.132163</td>\n",
       "      <td>1</td>\n",
       "      <td>1.0</td>\n",
       "    </tr>\n",
       "    <tr>\n",
       "      <th>25</th>\n",
       "      <td>0.314950</td>\n",
       "      <td>0.316662</td>\n",
       "      <td>2.393224</td>\n",
       "      <td>0.005989</td>\n",
       "      <td>0.611786</td>\n",
       "      <td>-0.337024</td>\n",
       "      <td>-0.132163</td>\n",
       "      <td>0</td>\n",
       "      <td>1.0</td>\n",
       "    </tr>\n",
       "    <tr>\n",
       "      <th>26</th>\n",
       "      <td>-0.925613</td>\n",
       "      <td>0.205943</td>\n",
       "      <td>0.279646</td>\n",
       "      <td>0.066245</td>\n",
       "      <td>0.115579</td>\n",
       "      <td>-0.163542</td>\n",
       "      <td>0.785885</td>\n",
       "      <td>1</td>\n",
       "      <td>-1.0</td>\n",
       "    </tr>\n",
       "    <tr>\n",
       "      <th>27</th>\n",
       "      <td>-0.925613</td>\n",
       "      <td>0.205943</td>\n",
       "      <td>0.279646</td>\n",
       "      <td>0.066245</td>\n",
       "      <td>0.115579</td>\n",
       "      <td>-0.209770</td>\n",
       "      <td>0.785885</td>\n",
       "      <td>0</td>\n",
       "      <td>-1.0</td>\n",
       "    </tr>\n",
       "    <tr>\n",
       "      <th>28</th>\n",
       "      <td>-0.163355</td>\n",
       "      <td>-0.168767</td>\n",
       "      <td>0.045264</td>\n",
       "      <td>-0.063217</td>\n",
       "      <td>0.437028</td>\n",
       "      <td>-0.353588</td>\n",
       "      <td>0.210672</td>\n",
       "      <td>0</td>\n",
       "      <td>1.0</td>\n",
       "    </tr>\n",
       "    <tr>\n",
       "      <th>29</th>\n",
       "      <td>-0.163355</td>\n",
       "      <td>-0.168767</td>\n",
       "      <td>0.045264</td>\n",
       "      <td>-0.063217</td>\n",
       "      <td>0.437028</td>\n",
       "      <td>-0.510705</td>\n",
       "      <td>0.210672</td>\n",
       "      <td>1</td>\n",
       "      <td>1.0</td>\n",
       "    </tr>\n",
       "    <tr>\n",
       "      <th>30</th>\n",
       "      <td>-2.062588</td>\n",
       "      <td>-0.437901</td>\n",
       "      <td>-2.811646</td>\n",
       "      <td>-0.371880</td>\n",
       "      <td>-1.980385</td>\n",
       "      <td>0.361135</td>\n",
       "      <td>-0.435877</td>\n",
       "      <td>1</td>\n",
       "      <td>-1.0</td>\n",
       "    </tr>\n",
       "    <tr>\n",
       "      <th>31</th>\n",
       "      <td>-2.062588</td>\n",
       "      <td>-0.437901</td>\n",
       "      <td>-2.811646</td>\n",
       "      <td>-0.371880</td>\n",
       "      <td>-1.980385</td>\n",
       "      <td>-0.494657</td>\n",
       "      <td>-0.435877</td>\n",
       "      <td>0</td>\n",
       "      <td>-1.0</td>\n",
       "    </tr>\n",
       "    <tr>\n",
       "      <th>32</th>\n",
       "      <td>-0.666081</td>\n",
       "      <td>0.022733</td>\n",
       "      <td>0.446411</td>\n",
       "      <td>-1.959467</td>\n",
       "      <td>-0.440551</td>\n",
       "      <td>-0.456966</td>\n",
       "      <td>-0.550994</td>\n",
       "      <td>1</td>\n",
       "      <td>1.0</td>\n",
       "    </tr>\n",
       "    <tr>\n",
       "      <th>33</th>\n",
       "      <td>-0.666081</td>\n",
       "      <td>0.022733</td>\n",
       "      <td>0.446411</td>\n",
       "      <td>-1.959467</td>\n",
       "      <td>-0.440551</td>\n",
       "      <td>-0.261482</td>\n",
       "      <td>-0.550994</td>\n",
       "      <td>0</td>\n",
       "      <td>1.0</td>\n",
       "    </tr>\n",
       "    <tr>\n",
       "      <th>34</th>\n",
       "      <td>0.323229</td>\n",
       "      <td>0.158559</td>\n",
       "      <td>-1.201586</td>\n",
       "      <td>-1.252343</td>\n",
       "      <td>-0.013384</td>\n",
       "      <td>-0.008449</td>\n",
       "      <td>-0.333316</td>\n",
       "      <td>0</td>\n",
       "      <td>-1.0</td>\n",
       "    </tr>\n",
       "    <tr>\n",
       "      <th>35</th>\n",
       "      <td>0.323229</td>\n",
       "      <td>0.158559</td>\n",
       "      <td>-1.201586</td>\n",
       "      <td>-1.252343</td>\n",
       "      <td>-0.013384</td>\n",
       "      <td>-0.093528</td>\n",
       "      <td>-0.333316</td>\n",
       "      <td>1</td>\n",
       "      <td>-1.0</td>\n",
       "    </tr>\n",
       "    <tr>\n",
       "      <th>36</th>\n",
       "      <td>1.396071</td>\n",
       "      <td>-4.028853</td>\n",
       "      <td>-0.532175</td>\n",
       "      <td>-0.471771</td>\n",
       "      <td>-2.784402</td>\n",
       "      <td>-0.316497</td>\n",
       "      <td>-0.341324</td>\n",
       "      <td>0</td>\n",
       "      <td>1.0</td>\n",
       "    </tr>\n",
       "    <tr>\n",
       "      <th>37</th>\n",
       "      <td>1.396071</td>\n",
       "      <td>-4.028853</td>\n",
       "      <td>-0.532175</td>\n",
       "      <td>-0.471771</td>\n",
       "      <td>-2.784402</td>\n",
       "      <td>-0.371412</td>\n",
       "      <td>-0.341324</td>\n",
       "      <td>1</td>\n",
       "      <td>1.0</td>\n",
       "    </tr>\n",
       "  </tbody>\n",
       "</table>\n",
       "</div>"
      ],
      "text/plain": [
       "         NAP   payroll     stock       rdi  election  national_polls       gdp  Democrat_Republican  state_election\n",
       "0   2.317666  0.694822 -0.191417 -0.443721 -0.043218        2.009872 -2.811254                    1             0.0\n",
       "1   2.317666  0.694822 -0.191417 -0.443721 -0.043218        0.271941 -2.811254                    0             0.0\n",
       "2  -1.618086  0.816498  0.393234  1.600343  1.549956       -1.495606  2.293957                    0            -1.0\n",
       "3  -1.618086  0.816498  0.393234  1.600343  1.549956       -0.301056  2.293957                    1            -1.0\n",
       "4   0.419923  0.360434 -0.651435  0.970059  0.423092        0.317229  0.999344                    0             1.0\n",
       "5   0.419923  0.360434 -0.651435  0.970059  0.423092       -0.326338  0.999344                    1             1.0\n",
       "6   0.011446  0.036944 -0.169566  0.769470 -1.287107        0.063623  0.379243                    1            -1.0\n",
       "7   0.011446  0.036944 -0.169566  0.769470 -1.287107        0.013565  0.379243                    0            -1.0\n",
       "8  -0.744231  0.323772 -0.014344  0.312956  0.338592       -0.900030  0.806024                    1             1.0\n",
       "9  -0.744231  0.323772 -0.014344  0.312956  0.338592        3.529049  0.806024                    0             1.0\n",
       "10 -0.310866  0.606668 -0.107557 -0.252279  0.198035        0.906873  0.072359                    1             0.0\n",
       "11 -0.310866  0.606668 -0.107557 -0.252279  0.198035        0.149001  0.072359                    0             0.0\n",
       "12  0.034297  0.369203  0.711918 -0.081166  1.107026       -0.225820 -0.124084                    1             1.0\n",
       "13  0.034297  0.369203  0.711918 -0.081166  1.107026       -0.456783 -0.124084                    0             1.0\n",
       "14  0.578420 -0.003607  0.084509 -1.481712  0.122942        1.019268 -0.954256                    0             1.0\n",
       "15  0.578420 -0.003607  0.084509 -1.481712  0.122942       -1.567691 -0.954256                    1             1.0\n",
       "16  1.268752  0.154460  0.631563 -0.675783 -0.011863        2.261010 -0.022789                    1             1.0\n",
       "17  1.268752  0.154460  0.631563 -0.675783 -0.011863        0.168908 -0.022789                    0             1.0\n",
       "18 -0.502108  0.426535  0.023123  0.589878  0.524624       -0.135038  0.765058                    0             1.0\n",
       "19 -0.502108  0.426535  0.023123  0.589878  0.524624       -0.986547  0.765058                    1             1.0\n",
       "20 -0.150340  0.442678  1.220296  0.365692  0.593960        1.295891  0.382612                    0            -1.0\n",
       "21 -0.150340  0.442678  1.220296  0.365692  0.593960       -2.006252  0.382612                    1            -1.0\n",
       "22  0.478517 -0.296785 -0.549464  2.372707  0.538290        0.147710 -0.989096                    1             1.0\n",
       "23  0.478517 -0.296785 -0.549464  2.372707  0.538290       -0.194180 -0.989096                    0             1.0\n",
       "24  0.314950  0.316662  2.393224  0.005989  0.611786       -0.342111 -0.132163                    1             1.0\n",
       "25  0.314950  0.316662  2.393224  0.005989  0.611786       -0.337024 -0.132163                    0             1.0\n",
       "26 -0.925613  0.205943  0.279646  0.066245  0.115579       -0.163542  0.785885                    1            -1.0\n",
       "27 -0.925613  0.205943  0.279646  0.066245  0.115579       -0.209770  0.785885                    0            -1.0\n",
       "28 -0.163355 -0.168767  0.045264 -0.063217  0.437028       -0.353588  0.210672                    0             1.0\n",
       "29 -0.163355 -0.168767  0.045264 -0.063217  0.437028       -0.510705  0.210672                    1             1.0\n",
       "30 -2.062588 -0.437901 -2.811646 -0.371880 -1.980385        0.361135 -0.435877                    1            -1.0\n",
       "31 -2.062588 -0.437901 -2.811646 -0.371880 -1.980385       -0.494657 -0.435877                    0            -1.0\n",
       "32 -0.666081  0.022733  0.446411 -1.959467 -0.440551       -0.456966 -0.550994                    1             1.0\n",
       "33 -0.666081  0.022733  0.446411 -1.959467 -0.440551       -0.261482 -0.550994                    0             1.0\n",
       "34  0.323229  0.158559 -1.201586 -1.252343 -0.013384       -0.008449 -0.333316                    0            -1.0\n",
       "35  0.323229  0.158559 -1.201586 -1.252343 -0.013384       -0.093528 -0.333316                    1            -1.0\n",
       "36  1.396071 -4.028853 -0.532175 -0.471771 -2.784402       -0.316497 -0.341324                    0             1.0\n",
       "37  1.396071 -4.028853 -0.532175 -0.471771 -2.784402       -0.371412 -0.341324                    1             1.0"
      ]
     },
     "metadata": {},
     "output_type": "display_data"
    }
   ],
   "source": [
    "X_1 = df.drop(['Unnamed: 0', 'popular_vote_percentage', 'Winner', 'Democrat_Republican', 'state_election'], axis=1)\n",
    "scaler = StandardScaler()\n",
    "scaler.fit(X_1)\n",
    "x_2 = scaler.transform(X_1)\n",
    "X_2 = pd.DataFrame(x_2, columns = ['NAP', 'payroll','stock','rdi','election','national_polls','gdp'])\n",
    "X_2['Democrat_Republican'] = df['Democrat_Republican']\n",
    "X_2['state_election'] = df['state_election']\n",
    "X_train1 = X_2.drop([36,37]).values\n",
    "X_test1 = X_2.iloc[[36,37]].values\n",
    "display(X_2)"
   ]
  },
  {
   "cell_type": "markdown",
   "metadata": {},
   "source": [
    "### LassoCV Model\n",
    "##### Not Standardized Data"
   ]
  },
  {
   "cell_type": "code",
   "execution_count": 244,
   "metadata": {},
   "outputs": [
    {
     "name": "stderr",
     "output_type": "stream",
     "text": [
      "/Users/talelokvenec/opt/anaconda3/envs/cs109a/lib/python3.7/site-packages/sklearn/model_selection/_validation.py:531: UserWarning: With alpha=0, this algorithm does not converge well. You are advised to use the LinearRegression estimator\n",
      "  estimator.fit(X_train, y_train, **fit_params)\n",
      "/Users/talelokvenec/opt/anaconda3/envs/cs109a/lib/python3.7/site-packages/sklearn/linear_model/_coordinate_descent.py:531: UserWarning: Coordinate descent with no regularization may lead to unexpected results and is discouraged.\n",
      "  positive)\n",
      "/Users/talelokvenec/opt/anaconda3/envs/cs109a/lib/python3.7/site-packages/sklearn/linear_model/_coordinate_descent.py:531: ConvergenceWarning: Objective did not converge. You might want to increase the number of iterations. Duality gap: 412.99602407409776, tolerance: 0.1080450342857143\n",
      "  positive)\n",
      "/Users/talelokvenec/opt/anaconda3/envs/cs109a/lib/python3.7/site-packages/sklearn/model_selection/_validation.py:531: UserWarning: With alpha=0, this algorithm does not converge well. You are advised to use the LinearRegression estimator\n",
      "  estimator.fit(X_train, y_train, **fit_params)\n",
      "/Users/talelokvenec/opt/anaconda3/envs/cs109a/lib/python3.7/site-packages/sklearn/linear_model/_coordinate_descent.py:531: UserWarning: Coordinate descent with no regularization may lead to unexpected results and is discouraged.\n",
      "  positive)\n",
      "/Users/talelokvenec/opt/anaconda3/envs/cs109a/lib/python3.7/site-packages/sklearn/linear_model/_coordinate_descent.py:531: ConvergenceWarning: Objective did not converge. You might want to increase the number of iterations. Duality gap: 277.0987926113259, tolerance: 0.07136670689655174\n",
      "  positive)\n",
      "/Users/talelokvenec/opt/anaconda3/envs/cs109a/lib/python3.7/site-packages/sklearn/model_selection/_validation.py:531: UserWarning: With alpha=0, this algorithm does not converge well. You are advised to use the LinearRegression estimator\n",
      "  estimator.fit(X_train, y_train, **fit_params)\n",
      "/Users/talelokvenec/opt/anaconda3/envs/cs109a/lib/python3.7/site-packages/sklearn/linear_model/_coordinate_descent.py:531: UserWarning: Coordinate descent with no regularization may lead to unexpected results and is discouraged.\n",
      "  positive)\n",
      "/Users/talelokvenec/opt/anaconda3/envs/cs109a/lib/python3.7/site-packages/sklearn/linear_model/_coordinate_descent.py:531: ConvergenceWarning: Objective did not converge. You might want to increase the number of iterations. Duality gap: 392.6945668557108, tolerance: 0.10238491034482758\n",
      "  positive)\n",
      "/Users/talelokvenec/opt/anaconda3/envs/cs109a/lib/python3.7/site-packages/sklearn/model_selection/_validation.py:531: UserWarning: With alpha=0, this algorithm does not converge well. You are advised to use the LinearRegression estimator\n",
      "  estimator.fit(X_train, y_train, **fit_params)\n",
      "/Users/talelokvenec/opt/anaconda3/envs/cs109a/lib/python3.7/site-packages/sklearn/linear_model/_coordinate_descent.py:531: UserWarning: Coordinate descent with no regularization may lead to unexpected results and is discouraged.\n",
      "  positive)\n",
      "/Users/talelokvenec/opt/anaconda3/envs/cs109a/lib/python3.7/site-packages/sklearn/linear_model/_coordinate_descent.py:531: ConvergenceWarning: Objective did not converge. You might want to increase the number of iterations. Duality gap: 437.22942160246794, tolerance: 0.1090733696551724\n",
      "  positive)\n",
      "/Users/talelokvenec/opt/anaconda3/envs/cs109a/lib/python3.7/site-packages/sklearn/model_selection/_validation.py:531: UserWarning: With alpha=0, this algorithm does not converge well. You are advised to use the LinearRegression estimator\n",
      "  estimator.fit(X_train, y_train, **fit_params)\n",
      "/Users/talelokvenec/opt/anaconda3/envs/cs109a/lib/python3.7/site-packages/sklearn/linear_model/_coordinate_descent.py:531: UserWarning: Coordinate descent with no regularization may lead to unexpected results and is discouraged.\n",
      "  positive)\n",
      "/Users/talelokvenec/opt/anaconda3/envs/cs109a/lib/python3.7/site-packages/sklearn/linear_model/_coordinate_descent.py:531: ConvergenceWarning: Objective did not converge. You might want to increase the number of iterations. Duality gap: 479.60394671227556, tolerance: 0.12473298137931038\n",
      "  positive)\n"
     ]
    }
   ],
   "source": [
    "# List of hyper-parameter values \n",
    "\n",
    "alphas = [1e-7,1e-6,1e-5,1e-4,1e-3,1e-2,1e-1,0,1,10,100,1000]\n",
    "\n",
    "# Create two lists for training and validation error\n",
    "\n",
    "training_error, validation_error = [],[]\n",
    "\n",
    "for i, alpha in enumerate(alphas):\n",
    "    \n",
    "    # For each i, fit a ridge regression on training set\n",
    "    \n",
    "    lasso = Lasso(fit_intercept=True, alpha=alpha)\n",
    "    #lasso.fit(X_train,y_train)\n",
    "    lasso_cv = cross_validate(lasso, X_train, y_train, cv = 5, scoring=('neg_mean_squared_error'))\n",
    "    \n",
    "    # Compute the training and validation errors got after cross validation\n",
    "    mse_val = np.mean(np.abs(lasso_cv['test_score']))\n",
    "        \n",
    "    # Append the MSEs to their respective lists \n",
    "    validation_error.append(mse_val)\n",
    "\n",
    "best_mse  = np.min(validation_error)\n",
    "best_parameter = alphas[np.argmin(validation_error)]\n"
   ]
  },
  {
   "cell_type": "code",
   "execution_count": 245,
   "metadata": {},
   "outputs": [
    {
     "name": "stdout",
     "output_type": "stream",
     "text": [
      "MSE: 37.20568370440923, best alpha: 10\n"
     ]
    }
   ],
   "source": [
    "print(f\"MSE: {best_mse}, best alpha: {best_parameter}\")"
   ]
  },
  {
   "cell_type": "code",
   "execution_count": 246,
   "metadata": {},
   "outputs": [
    {
     "name": "stdout",
     "output_type": "stream",
     "text": [
      "Lasso MSE: 4.524136111111125\n",
      "Lasso R2: -0.5654450211457194\n",
      "[47.82166667 47.82166667]\n",
      "[-0. -0.  0. -0. -0. -0. -0.  0. -0.]\n",
      "47.82166666666666\n"
     ]
    }
   ],
   "source": [
    "lasso = Lasso(fit_intercept=True, alpha=10).fit(X_train, y_train)\n",
    "y_pred_lasso = lasso.predict(X_test)\n",
    "print(f\"Lasso MSE: {mean_squared_error(y_test, y_pred_lasso)}\")\n",
    "print(f\"Lasso R2: {r2_score(y_test, y_pred_lasso)}\")\n",
    "print(y_pred_lasso)\n",
    "print(lasso.coef_)\n",
    "print(lasso.intercept_)"
   ]
  },
  {
   "cell_type": "markdown",
   "metadata": {},
   "source": [
    "### LassoCV Model\n",
    "##### Standardized Data"
   ]
  },
  {
   "cell_type": "code",
   "execution_count": 247,
   "metadata": {},
   "outputs": [
    {
     "name": "stderr",
     "output_type": "stream",
     "text": [
      "/Users/talelokvenec/opt/anaconda3/envs/cs109a/lib/python3.7/site-packages/sklearn/model_selection/_validation.py:531: UserWarning: With alpha=0, this algorithm does not converge well. You are advised to use the LinearRegression estimator\n",
      "  estimator.fit(X_train, y_train, **fit_params)\n",
      "/Users/talelokvenec/opt/anaconda3/envs/cs109a/lib/python3.7/site-packages/sklearn/linear_model/_coordinate_descent.py:531: UserWarning: Coordinate descent with no regularization may lead to unexpected results and is discouraged.\n",
      "  positive)\n",
      "/Users/talelokvenec/opt/anaconda3/envs/cs109a/lib/python3.7/site-packages/sklearn/linear_model/_coordinate_descent.py:531: ConvergenceWarning: Objective did not converge. You might want to increase the number of iterations. Duality gap: 412.9960240740991, tolerance: 0.1080450342857143\n",
      "  positive)\n",
      "/Users/talelokvenec/opt/anaconda3/envs/cs109a/lib/python3.7/site-packages/sklearn/model_selection/_validation.py:531: UserWarning: With alpha=0, this algorithm does not converge well. You are advised to use the LinearRegression estimator\n",
      "  estimator.fit(X_train, y_train, **fit_params)\n",
      "/Users/talelokvenec/opt/anaconda3/envs/cs109a/lib/python3.7/site-packages/sklearn/linear_model/_coordinate_descent.py:531: UserWarning: Coordinate descent with no regularization may lead to unexpected results and is discouraged.\n",
      "  positive)\n",
      "/Users/talelokvenec/opt/anaconda3/envs/cs109a/lib/python3.7/site-packages/sklearn/linear_model/_coordinate_descent.py:531: ConvergenceWarning: Objective did not converge. You might want to increase the number of iterations. Duality gap: 277.09879261132687, tolerance: 0.07136670689655174\n",
      "  positive)\n",
      "/Users/talelokvenec/opt/anaconda3/envs/cs109a/lib/python3.7/site-packages/sklearn/model_selection/_validation.py:531: UserWarning: With alpha=0, this algorithm does not converge well. You are advised to use the LinearRegression estimator\n",
      "  estimator.fit(X_train, y_train, **fit_params)\n",
      "/Users/talelokvenec/opt/anaconda3/envs/cs109a/lib/python3.7/site-packages/sklearn/linear_model/_coordinate_descent.py:531: UserWarning: Coordinate descent with no regularization may lead to unexpected results and is discouraged.\n",
      "  positive)\n",
      "/Users/talelokvenec/opt/anaconda3/envs/cs109a/lib/python3.7/site-packages/sklearn/linear_model/_coordinate_descent.py:531: ConvergenceWarning: Objective did not converge. You might want to increase the number of iterations. Duality gap: 392.69456685571106, tolerance: 0.10238491034482758\n",
      "  positive)\n",
      "/Users/talelokvenec/opt/anaconda3/envs/cs109a/lib/python3.7/site-packages/sklearn/model_selection/_validation.py:531: UserWarning: With alpha=0, this algorithm does not converge well. You are advised to use the LinearRegression estimator\n",
      "  estimator.fit(X_train, y_train, **fit_params)\n",
      "/Users/talelokvenec/opt/anaconda3/envs/cs109a/lib/python3.7/site-packages/sklearn/linear_model/_coordinate_descent.py:531: UserWarning: Coordinate descent with no regularization may lead to unexpected results and is discouraged.\n",
      "  positive)\n",
      "/Users/talelokvenec/opt/anaconda3/envs/cs109a/lib/python3.7/site-packages/sklearn/linear_model/_coordinate_descent.py:531: ConvergenceWarning: Objective did not converge. You might want to increase the number of iterations. Duality gap: 437.2294216024683, tolerance: 0.1090733696551724\n",
      "  positive)\n",
      "/Users/talelokvenec/opt/anaconda3/envs/cs109a/lib/python3.7/site-packages/sklearn/model_selection/_validation.py:531: UserWarning: With alpha=0, this algorithm does not converge well. You are advised to use the LinearRegression estimator\n",
      "  estimator.fit(X_train, y_train, **fit_params)\n",
      "/Users/talelokvenec/opt/anaconda3/envs/cs109a/lib/python3.7/site-packages/sklearn/linear_model/_coordinate_descent.py:531: UserWarning: Coordinate descent with no regularization may lead to unexpected results and is discouraged.\n",
      "  positive)\n",
      "/Users/talelokvenec/opt/anaconda3/envs/cs109a/lib/python3.7/site-packages/sklearn/linear_model/_coordinate_descent.py:531: ConvergenceWarning: Objective did not converge. You might want to increase the number of iterations. Duality gap: 479.6039467122746, tolerance: 0.12473298137931038\n",
      "  positive)\n"
     ]
    }
   ],
   "source": [
    "# List of hyper-parameter values \n",
    "\n",
    "alphas = [1e-7,1e-6,1e-5,1e-4,1e-3,1e-2,1e-1,0,1,10,100,1000]\n",
    "\n",
    "# Create two lists for training and validation error\n",
    "\n",
    "validation_error1 = []\n",
    "\n",
    "for i, alpha in enumerate(alphas):\n",
    "    \n",
    "    # For each i, fit a ridge regression on training set\n",
    "    \n",
    "    lasso = Lasso(fit_intercept=True, alpha=alpha)\n",
    "    #lasso.fit(X_train,y_train)\n",
    "    lasso_cv1 = cross_validate(lasso, X_train1, y_train, cv = 5, scoring=('neg_mean_squared_error'))\n",
    "    \n",
    "    # Compute the training and validation errors got after cross validation\n",
    "    mse_val = np.mean(np.abs(lasso_cv1['test_score']))\n",
    "        \n",
    "    # Append the MSEs to their respective lists \n",
    "    validation_error1.append(mse_val)\n",
    "\n",
    "best_mse1  = np.min(validation_error1)\n",
    "best_parameter1 = alphas[np.argmin(validation_error1)]\n"
   ]
  },
  {
   "cell_type": "code",
   "execution_count": 248,
   "metadata": {},
   "outputs": [
    {
     "name": "stdout",
     "output_type": "stream",
     "text": [
      "MSE: 37.20568370440923, best alpha: 10\n"
     ]
    }
   ],
   "source": [
    "print(f\"MSE: {best_mse1}, best alpha: {best_parameter1}\")"
   ]
  },
  {
   "cell_type": "code",
   "execution_count": 249,
   "metadata": {},
   "outputs": [
    {
     "name": "stdout",
     "output_type": "stream",
     "text": [
      "Lasso MSE: 4.524136111111125\n",
      "Lasso R2: -0.5654450211457194\n",
      "[47.82166667 47.82166667]\n",
      "[-0.  0. -0. -0. -0. -0.  0. -0. -0.]\n",
      "47.82166666666666\n"
     ]
    }
   ],
   "source": [
    "lasso1 = Lasso(fit_intercept=True, alpha=10).fit(X_train1, y_train)\n",
    "y_pred_lasso1 = lasso1.predict(X_test1)\n",
    "print(f\"Lasso MSE: {mean_squared_error(y_test, y_pred_lasso1)}\")\n",
    "print(f\"Lasso R2: {r2_score(y_test, y_pred_lasso1)}\")\n",
    "print(y_pred_lasso1)\n",
    "print(lasso1.coef_)\n",
    "print(lasso1.intercept_)"
   ]
  },
  {
   "cell_type": "markdown",
   "metadata": {},
   "source": [
    "#### Tried once more using LassoCV model, in case I was doing something wrong above, still the same result."
   ]
  },
  {
   "cell_type": "code",
   "execution_count": 250,
   "metadata": {},
   "outputs": [
    {
     "name": "stdout",
     "output_type": "stream",
     "text": [
      "Lasso MSE: 4.524136111111125\n",
      "Lasso R2: -0.5654450211457194\n",
      "[47.82166667 47.82166667]\n",
      "[-0.  0. -0. -0. -0. -0.  0. -0. -0.]\n",
      "47.82166666666666\n"
     ]
    }
   ],
   "source": [
    "lassoCV = LassoCV(fit_intercept = True, cv = 5).fit(X_train1, y_train)\n",
    "y_pred_lassoCV = lassoCV.predict(X_test1)\n",
    "print(f\"Lasso MSE: {mean_squared_error(y_test, y_pred_lassoCV)}\")\n",
    "print(f\"Lasso R2: {r2_score(y_test, y_pred_lassoCV)}\")\n",
    "print(y_pred_lassoCV)\n",
    "print(lassoCV.coef_)\n",
    "print(lassoCV.intercept_)"
   ]
  },
  {
   "cell_type": "markdown",
   "metadata": {},
   "source": [
    "### PCA\n",
    "#### Standardized Data"
   ]
  },
  {
   "cell_type": "code",
   "execution_count": 251,
   "metadata": {},
   "outputs": [
    {
     "name": "stdout",
     "output_type": "stream",
     "text": [
      "[0.31236123 0.2226887  0.13932112 0.11166227 0.08443899 0.0622966\n",
      " 0.03024289 0.02505786 0.01193034]\n"
     ]
    },
    {
     "data": {
      "text/html": [
       "<div>\n",
       "<style scoped>\n",
       "    .dataframe tbody tr th:only-of-type {\n",
       "        vertical-align: middle;\n",
       "    }\n",
       "\n",
       "    .dataframe tbody tr th {\n",
       "        vertical-align: top;\n",
       "    }\n",
       "\n",
       "    .dataframe thead tr th {\n",
       "        text-align: left;\n",
       "    }\n",
       "</style>\n",
       "<table border=\"1\" class=\"dataframe\">\n",
       "  <thead>\n",
       "    <tr>\n",
       "      <th></th>\n",
       "      <th>PCA1</th>\n",
       "      <th>PCA2</th>\n",
       "      <th>PCA3</th>\n",
       "      <th>PCA4</th>\n",
       "      <th>PCA5</th>\n",
       "      <th>PCA6</th>\n",
       "    </tr>\n",
       "  </thead>\n",
       "  <tbody>\n",
       "    <tr>\n",
       "      <th>0</th>\n",
       "      <td>2.316111</td>\n",
       "      <td>-2.372364</td>\n",
       "      <td>-2.244506</td>\n",
       "      <td>0.411688</td>\n",
       "      <td>-1.253257</td>\n",
       "      <td>0.479474</td>\n",
       "    </tr>\n",
       "    <tr>\n",
       "      <th>1</th>\n",
       "      <td>2.055887</td>\n",
       "      <td>-1.975623</td>\n",
       "      <td>-1.187277</td>\n",
       "      <td>-0.365806</td>\n",
       "      <td>-2.058805</td>\n",
       "      <td>0.337249</td>\n",
       "    </tr>\n",
       "    <tr>\n",
       "      <th>2</th>\n",
       "      <td>-3.810777</td>\n",
       "      <td>1.391599</td>\n",
       "      <td>0.691553</td>\n",
       "      <td>0.044185</td>\n",
       "      <td>-0.323877</td>\n",
       "      <td>0.427886</td>\n",
       "    </tr>\n",
       "    <tr>\n",
       "      <th>3</th>\n",
       "      <td>-3.633294</td>\n",
       "      <td>1.122014</td>\n",
       "      <td>-0.020166</td>\n",
       "      <td>0.563587</td>\n",
       "      <td>0.205593</td>\n",
       "      <td>0.517815</td>\n",
       "    </tr>\n",
       "    <tr>\n",
       "      <th>4</th>\n",
       "      <td>-0.696461</td>\n",
       "      <td>-0.112131</td>\n",
       "      <td>0.051944</td>\n",
       "      <td>1.287707</td>\n",
       "      <td>0.052392</td>\n",
       "      <td>-0.692427</td>\n",
       "    </tr>\n",
       "    <tr>\n",
       "      <th>5</th>\n",
       "      <td>-0.798868</td>\n",
       "      <td>0.048419</td>\n",
       "      <td>0.508995</td>\n",
       "      <td>0.934048</td>\n",
       "      <td>-0.352038</td>\n",
       "      <td>-0.779402</td>\n",
       "    </tr>\n",
       "    <tr>\n",
       "      <th>6</th>\n",
       "      <td>0.069391</td>\n",
       "      <td>1.226276</td>\n",
       "      <td>-0.301185</td>\n",
       "      <td>0.505179</td>\n",
       "      <td>-0.366204</td>\n",
       "      <td>1.177345</td>\n",
       "    </tr>\n",
       "    <tr>\n",
       "      <th>7</th>\n",
       "      <td>0.066180</td>\n",
       "      <td>1.228040</td>\n",
       "      <td>-0.317193</td>\n",
       "      <td>0.529383</td>\n",
       "      <td>-0.314186</td>\n",
       "      <td>1.197564</td>\n",
       "    </tr>\n",
       "    <tr>\n",
       "      <th>8</th>\n",
       "      <td>-1.095088</td>\n",
       "      <td>0.344331</td>\n",
       "      <td>0.854294</td>\n",
       "      <td>-0.190131</td>\n",
       "      <td>0.107043</td>\n",
       "      <td>-0.870348</td>\n",
       "    </tr>\n",
       "    <tr>\n",
       "      <th>9</th>\n",
       "      <td>-0.416260</td>\n",
       "      <td>-0.702062</td>\n",
       "      <td>-2.009782</td>\n",
       "      <td>1.961555</td>\n",
       "      <td>2.434797</td>\n",
       "      <td>-0.419048</td>\n",
       "    </tr>\n",
       "    <tr>\n",
       "      <th>10</th>\n",
       "      <td>-0.302026</td>\n",
       "      <td>-0.131808</td>\n",
       "      <td>-1.049748</td>\n",
       "      <td>-0.023188</td>\n",
       "      <td>0.416008</td>\n",
       "      <td>-0.027420</td>\n",
       "    </tr>\n",
       "    <tr>\n",
       "      <th>11</th>\n",
       "      <td>-0.413016</td>\n",
       "      <td>0.035590</td>\n",
       "      <td>-0.615691</td>\n",
       "      <td>-0.335178</td>\n",
       "      <td>0.108403</td>\n",
       "      <td>-0.075322</td>\n",
       "    </tr>\n",
       "    <tr>\n",
       "      <th>12</th>\n",
       "      <td>-0.721834</td>\n",
       "      <td>-1.172802</td>\n",
       "      <td>0.411793</td>\n",
       "      <td>-0.323621</td>\n",
       "      <td>-0.022702</td>\n",
       "      <td>-0.492316</td>\n",
       "    </tr>\n",
       "    <tr>\n",
       "      <th>13</th>\n",
       "      <td>-0.752591</td>\n",
       "      <td>-1.128705</td>\n",
       "      <td>0.510813</td>\n",
       "      <td>-0.385341</td>\n",
       "      <td>-0.062597</td>\n",
       "      <td>-0.489508</td>\n",
       "    </tr>\n",
       "    <tr>\n",
       "      <th>14</th>\n",
       "      <td>1.331455</td>\n",
       "      <td>-1.300415</td>\n",
       "      <td>-0.743972</td>\n",
       "      <td>-0.556015</td>\n",
       "      <td>0.715952</td>\n",
       "      <td>-0.430290</td>\n",
       "    </tr>\n",
       "    <tr>\n",
       "      <th>15</th>\n",
       "      <td>0.933127</td>\n",
       "      <td>-0.685093</td>\n",
       "      <td>0.948789</td>\n",
       "      <td>-1.832739</td>\n",
       "      <td>-0.675866</td>\n",
       "      <td>-0.704300</td>\n",
       "    </tr>\n",
       "    <tr>\n",
       "      <th>16</th>\n",
       "      <td>0.938696</td>\n",
       "      <td>-1.845492</td>\n",
       "      <td>-0.960927</td>\n",
       "      <td>0.767399</td>\n",
       "      <td>1.305400</td>\n",
       "      <td>0.318660</td>\n",
       "    </tr>\n",
       "    <tr>\n",
       "      <th>17</th>\n",
       "      <td>0.624543</td>\n",
       "      <td>-1.365872</td>\n",
       "      <td>0.321502</td>\n",
       "      <td>-0.178317</td>\n",
       "      <td>0.319906</td>\n",
       "      <td>0.142349</td>\n",
       "    </tr>\n",
       "    <tr>\n",
       "      <th>18</th>\n",
       "      <td>-1.107531</td>\n",
       "      <td>-0.064890</td>\n",
       "      <td>0.327019</td>\n",
       "      <td>0.436334</td>\n",
       "      <td>0.322262</td>\n",
       "      <td>-0.726909</td>\n",
       "    </tr>\n",
       "    <tr>\n",
       "      <th>19</th>\n",
       "      <td>-1.241602</td>\n",
       "      <td>0.144321</td>\n",
       "      <td>0.916291</td>\n",
       "      <td>-0.016094</td>\n",
       "      <td>-0.187818</td>\n",
       "      <td>-0.833897</td>\n",
       "    </tr>\n",
       "    <tr>\n",
       "      <th>20</th>\n",
       "      <td>-1.107038</td>\n",
       "      <td>-0.581188</td>\n",
       "      <td>-1.038482</td>\n",
       "      <td>0.404292</td>\n",
       "      <td>0.600246</td>\n",
       "      <td>1.533433</td>\n",
       "    </tr>\n",
       "    <tr>\n",
       "      <th>21</th>\n",
       "      <td>-1.614267</td>\n",
       "      <td>0.201493</td>\n",
       "      <td>1.109029</td>\n",
       "      <td>-1.212127</td>\n",
       "      <td>-1.154940</td>\n",
       "      <td>1.190592</td>\n",
       "    </tr>\n",
       "    <tr>\n",
       "      <th>22</th>\n",
       "      <td>-0.067254</td>\n",
       "      <td>-0.454931</td>\n",
       "      <td>0.295715</td>\n",
       "      <td>2.074840</td>\n",
       "      <td>-1.561966</td>\n",
       "      <td>-0.749289</td>\n",
       "    </tr>\n",
       "    <tr>\n",
       "      <th>23</th>\n",
       "      <td>-0.114902</td>\n",
       "      <td>-0.384876</td>\n",
       "      <td>0.465269</td>\n",
       "      <td>1.960431</td>\n",
       "      <td>-1.658222</td>\n",
       "      <td>-0.757156</td>\n",
       "    </tr>\n",
       "    <tr>\n",
       "      <th>24</th>\n",
       "      <td>-0.789964</td>\n",
       "      <td>-1.932977</td>\n",
       "      <td>1.155434</td>\n",
       "      <td>-0.491958</td>\n",
       "      <td>0.316695</td>\n",
       "      <td>0.594592</td>\n",
       "    </tr>\n",
       "    <tr>\n",
       "      <th>25</th>\n",
       "      <td>-0.784778</td>\n",
       "      <td>-1.944117</td>\n",
       "      <td>1.104361</td>\n",
       "      <td>-0.441561</td>\n",
       "      <td>0.396731</td>\n",
       "      <td>0.620118</td>\n",
       "    </tr>\n",
       "    <tr>\n",
       "      <th>26</th>\n",
       "      <td>-1.135942</td>\n",
       "      <td>0.959686</td>\n",
       "      <td>-0.269294</td>\n",
       "      <td>-0.428988</td>\n",
       "      <td>0.220031</td>\n",
       "      <td>0.810115</td>\n",
       "    </tr>\n",
       "    <tr>\n",
       "      <th>27</th>\n",
       "      <td>-1.138570</td>\n",
       "      <td>0.960553</td>\n",
       "      <td>-0.287738</td>\n",
       "      <td>-0.402964</td>\n",
       "      <td>0.273994</td>\n",
       "      <td>0.830703</td>\n",
       "    </tr>\n",
       "    <tr>\n",
       "      <th>28</th>\n",
       "      <td>-0.239997</td>\n",
       "      <td>-0.223749</td>\n",
       "      <td>0.579857</td>\n",
       "      <td>-0.043928</td>\n",
       "      <td>0.232591</td>\n",
       "      <td>-0.623524</td>\n",
       "    </tr>\n",
       "    <tr>\n",
       "      <th>29</th>\n",
       "      <td>-0.268333</td>\n",
       "      <td>-0.177032</td>\n",
       "      <td>0.727598</td>\n",
       "      <td>-0.166536</td>\n",
       "      <td>0.075313</td>\n",
       "      <td>-0.663682</td>\n",
       "    </tr>\n",
       "    <tr>\n",
       "      <th>30</th>\n",
       "      <td>1.291720</td>\n",
       "      <td>3.570488</td>\n",
       "      <td>-1.693195</td>\n",
       "      <td>-0.203538</td>\n",
       "      <td>0.011339</td>\n",
       "      <td>-0.752705</td>\n",
       "    </tr>\n",
       "    <tr>\n",
       "      <th>31</th>\n",
       "      <td>1.165820</td>\n",
       "      <td>3.760801</td>\n",
       "      <td>-1.196876</td>\n",
       "      <td>-0.562037</td>\n",
       "      <td>-0.346017</td>\n",
       "      <td>-0.810031</td>\n",
       "    </tr>\n",
       "    <tr>\n",
       "      <th>32</th>\n",
       "      <td>0.806472</td>\n",
       "      <td>-0.246866</td>\n",
       "      <td>0.284101</td>\n",
       "      <td>-1.893718</td>\n",
       "      <td>0.865898</td>\n",
       "      <td>-0.630702</td>\n",
       "    </tr>\n",
       "    <tr>\n",
       "      <th>33</th>\n",
       "      <td>0.840650</td>\n",
       "      <td>-0.302562</td>\n",
       "      <td>0.111964</td>\n",
       "      <td>-1.752886</td>\n",
       "      <td>1.042669</td>\n",
       "      <td>-0.586851</td>\n",
       "    </tr>\n",
       "    <tr>\n",
       "      <th>34</th>\n",
       "      <td>0.747223</td>\n",
       "      <td>0.697020</td>\n",
       "      <td>-1.216537</td>\n",
       "      <td>-1.002537</td>\n",
       "      <td>-0.416006</td>\n",
       "      <td>0.253422</td>\n",
       "    </tr>\n",
       "    <tr>\n",
       "      <th>35</th>\n",
       "      <td>0.729856</td>\n",
       "      <td>0.726879</td>\n",
       "      <td>-1.114601</td>\n",
       "      <td>-1.090929</td>\n",
       "      <td>-0.536683</td>\n",
       "      <td>0.220197</td>\n",
       "    </tr>\n",
       "    <tr>\n",
       "      <th>36</th>\n",
       "      <td>4.173017</td>\n",
       "      <td>1.332622</td>\n",
       "      <td>2.404048</td>\n",
       "      <td>1.046787</td>\n",
       "      <td>0.686636</td>\n",
       "      <td>0.746967</td>\n",
       "    </tr>\n",
       "    <tr>\n",
       "      <th>37</th>\n",
       "      <td>4.160243</td>\n",
       "      <td>1.355423</td>\n",
       "      <td>2.486803</td>\n",
       "      <td>0.972722</td>\n",
       "      <td>0.581285</td>\n",
       "      <td>0.716645</td>\n",
       "    </tr>\n",
       "  </tbody>\n",
       "</table>\n",
       "</div>"
      ],
      "text/plain": [
       "        PCA1      PCA2      PCA3      PCA4      PCA5      PCA6\n",
       "0   2.316111 -2.372364 -2.244506  0.411688 -1.253257  0.479474\n",
       "1   2.055887 -1.975623 -1.187277 -0.365806 -2.058805  0.337249\n",
       "2  -3.810777  1.391599  0.691553  0.044185 -0.323877  0.427886\n",
       "3  -3.633294  1.122014 -0.020166  0.563587  0.205593  0.517815\n",
       "4  -0.696461 -0.112131  0.051944  1.287707  0.052392 -0.692427\n",
       "5  -0.798868  0.048419  0.508995  0.934048 -0.352038 -0.779402\n",
       "6   0.069391  1.226276 -0.301185  0.505179 -0.366204  1.177345\n",
       "7   0.066180  1.228040 -0.317193  0.529383 -0.314186  1.197564\n",
       "8  -1.095088  0.344331  0.854294 -0.190131  0.107043 -0.870348\n",
       "9  -0.416260 -0.702062 -2.009782  1.961555  2.434797 -0.419048\n",
       "10 -0.302026 -0.131808 -1.049748 -0.023188  0.416008 -0.027420\n",
       "11 -0.413016  0.035590 -0.615691 -0.335178  0.108403 -0.075322\n",
       "12 -0.721834 -1.172802  0.411793 -0.323621 -0.022702 -0.492316\n",
       "13 -0.752591 -1.128705  0.510813 -0.385341 -0.062597 -0.489508\n",
       "14  1.331455 -1.300415 -0.743972 -0.556015  0.715952 -0.430290\n",
       "15  0.933127 -0.685093  0.948789 -1.832739 -0.675866 -0.704300\n",
       "16  0.938696 -1.845492 -0.960927  0.767399  1.305400  0.318660\n",
       "17  0.624543 -1.365872  0.321502 -0.178317  0.319906  0.142349\n",
       "18 -1.107531 -0.064890  0.327019  0.436334  0.322262 -0.726909\n",
       "19 -1.241602  0.144321  0.916291 -0.016094 -0.187818 -0.833897\n",
       "20 -1.107038 -0.581188 -1.038482  0.404292  0.600246  1.533433\n",
       "21 -1.614267  0.201493  1.109029 -1.212127 -1.154940  1.190592\n",
       "22 -0.067254 -0.454931  0.295715  2.074840 -1.561966 -0.749289\n",
       "23 -0.114902 -0.384876  0.465269  1.960431 -1.658222 -0.757156\n",
       "24 -0.789964 -1.932977  1.155434 -0.491958  0.316695  0.594592\n",
       "25 -0.784778 -1.944117  1.104361 -0.441561  0.396731  0.620118\n",
       "26 -1.135942  0.959686 -0.269294 -0.428988  0.220031  0.810115\n",
       "27 -1.138570  0.960553 -0.287738 -0.402964  0.273994  0.830703\n",
       "28 -0.239997 -0.223749  0.579857 -0.043928  0.232591 -0.623524\n",
       "29 -0.268333 -0.177032  0.727598 -0.166536  0.075313 -0.663682\n",
       "30  1.291720  3.570488 -1.693195 -0.203538  0.011339 -0.752705\n",
       "31  1.165820  3.760801 -1.196876 -0.562037 -0.346017 -0.810031\n",
       "32  0.806472 -0.246866  0.284101 -1.893718  0.865898 -0.630702\n",
       "33  0.840650 -0.302562  0.111964 -1.752886  1.042669 -0.586851\n",
       "34  0.747223  0.697020 -1.216537 -1.002537 -0.416006  0.253422\n",
       "35  0.729856  0.726879 -1.114601 -1.090929 -0.536683  0.220197\n",
       "36  4.173017  1.332622  2.404048  1.046787  0.686636  0.746967\n",
       "37  4.160243  1.355423  2.486803  0.972722  0.581285  0.716645"
      ]
     },
     "metadata": {},
     "output_type": "display_data"
    }
   ],
   "source": [
    "X_pca = X_2.values\n",
    "pca = PCA().fit(X_pca)\n",
    "X_2_PCA = pca.transform(X_pca)\n",
    "print(pca.explained_variance_ratio_)\n",
    "df_PCA = pd.DataFrame(X_2_PCA[:,0:6], columns = [['PCA1' , 'PCA2', 'PCA3', 'PCA4', 'PCA5', 'PCA6']])\n",
    "display(df_PCA)\n",
    "X_train_pca = df_PCA.drop([36,37]).values\n",
    "X_test_pca = df_PCA.iloc[[36,37]].values"
   ]
  },
  {
   "cell_type": "markdown",
   "metadata": {},
   "source": [
    "### 1. Linear Regression\n",
    "#### - Initial DataFrame"
   ]
  },
  {
   "cell_type": "code",
   "execution_count": 253,
   "metadata": {},
   "outputs": [
    {
     "name": "stdout",
     "output_type": "stream",
     "text": [
      "MSE: 98.18405887080898\n",
      "R2: -32.973722792667495\n",
      "[40.64007287 38.5251679 ]\n"
     ]
    }
   ],
   "source": [
    "lreg = LinearRegression()\n",
    "lreg.fit(X_train1, y_train)\n",
    "y_train_pred_lreg = lreg.predict(X_train1)\n",
    "print(f\"MSE: {mean_squared_error(y_test, y_test_pred_lreg)}\")\n",
    "print(f\"R2: {r2_score(y_test, y_test_pred_lreg)}\")\n",
    "print(y_test_pred_lreg)\n",
    "lreg_initial_mse = mean_squared_error(y_test, y_test_pred_lreg)\n",
    "lreg_initial_r2 = r2_score(y_test, y_test_pred_lreg)"
   ]
  },
  {
   "cell_type": "code",
   "execution_count": 254,
   "metadata": {},
   "outputs": [
    {
     "name": "stdout",
     "output_type": "stream",
     "text": [
      "MSE: 98.18405887081411\n",
      "R2: -32.97372279266927\n",
      "[40.64007287 38.5251679 ]\n"
     ]
    }
   ],
   "source": [
    "lreg = LinearRegression()\n",
    "lreg.fit(X_train, y_train)\n",
    "y_test_pred_lreg1 = lreg.predict(X_test)\n",
    "print(f\"MSE: {mean_squared_error(y_test, y_test_pred_lreg1)}\")\n",
    "print(f\"R2: {r2_score(y_test, y_test_pred_lreg1)}\")\n",
    "print(y_test_pred_lreg1)"
   ]
  },
  {
   "cell_type": "markdown",
   "metadata": {},
   "source": [
    "#### - PCA DataFrame"
   ]
  },
  {
   "cell_type": "code",
   "execution_count": 255,
   "metadata": {},
   "outputs": [
    {
     "name": "stdout",
     "output_type": "stream",
     "text": [
      "MSE: 4.88000641758609\n",
      "R2: -0.6885835354969185\n",
      "[47.53195257 47.67868596]\n"
     ]
    }
   ],
   "source": [
    "lreg_pca = LinearRegression()\n",
    "lreg_pca.fit(X_train_pca, y_train)\n",
    "y_test_pred_lreg_pca = lreg_pca.predict(X_test_pca)\n",
    "print(f\"MSE: {mean_squared_error(y_test, y_test_pred_lreg_pca)}\")\n",
    "print(f\"R2: {r2_score(y_test, y_test_pred_lreg_pca)}\")\n",
    "print(y_test_pred_lreg_pca)\n",
    "lreg_pca_mse = mean_squared_error(y_test, y_test_pred_lreg_pca)\n",
    "lreg_pca_r2 = r2_score(y_test, y_test_pred_lreg_pca)"
   ]
  },
  {
   "cell_type": "code",
   "execution_count": 256,
   "metadata": {},
   "outputs": [
    {
     "data": {
      "text/html": [
       "<div>\n",
       "<style scoped>\n",
       "    .dataframe tbody tr th:only-of-type {\n",
       "        vertical-align: middle;\n",
       "    }\n",
       "\n",
       "    .dataframe tbody tr th {\n",
       "        vertical-align: top;\n",
       "    }\n",
       "\n",
       "    .dataframe thead th {\n",
       "        text-align: right;\n",
       "    }\n",
       "</style>\n",
       "<table border=\"1\" class=\"dataframe\">\n",
       "  <thead>\n",
       "    <tr style=\"text-align: right;\">\n",
       "      <th></th>\n",
       "      <th>regressor</th>\n",
       "      <th>MSE</th>\n",
       "      <th>R2</th>\n",
       "    </tr>\n",
       "  </thead>\n",
       "  <tbody>\n",
       "    <tr>\n",
       "      <th>0</th>\n",
       "      <td>Linear Regression Initial Data</td>\n",
       "      <td>98.184059</td>\n",
       "      <td>-32.973723</td>\n",
       "    </tr>\n",
       "    <tr>\n",
       "      <th>1</th>\n",
       "      <td>Linear Regression PCA</td>\n",
       "      <td>4.880006</td>\n",
       "      <td>-0.688584</td>\n",
       "    </tr>\n",
       "  </tbody>\n",
       "</table>\n",
       "</div>"
      ],
      "text/plain": [
       "                        regressor        MSE         R2\n",
       "0  Linear Regression Initial Data  98.184059 -32.973723\n",
       "1           Linear Regression PCA   4.880006  -0.688584"
      ]
     },
     "metadata": {},
     "output_type": "display_data"
    }
   ],
   "source": [
    "results_df = pd.DataFrame({'regressor':['Linear Regression Initial Data', 'Linear Regression PCA'],\n",
    "                          'MSE':[lreg_initial_mse, lreg_pca_mse],\n",
    "                          'R2':[lreg_initial_r2, lreg_pca_r2]})\n",
    "display(results_df)"
   ]
  },
  {
   "cell_type": "markdown",
   "metadata": {},
   "source": [
    "### 2. Lasso Regression\n",
    "#### - Initial DataFrame"
   ]
  },
  {
   "cell_type": "code",
   "execution_count": 259,
   "metadata": {},
   "outputs": [
    {
     "name": "stdout",
     "output_type": "stream",
     "text": [
      "Lasso MSE: 4.524136111111125\n",
      "Lasso R2: -0.5654450211457194\n",
      "[47.82166667 47.82166667]\n",
      "[-0.  0. -0. -0. -0. -0.  0. -0. -0.]\n",
      "47.82166666666666\n"
     ]
    }
   ],
   "source": [
    "lassoCV = LassoCV(fit_intercept = True, cv = 10).fit(X_train1, y_train)\n",
    "y_pred_lassoCV = lassoCV.predict(X_test1)\n",
    "print(f\"Lasso MSE: {mean_squared_error(y_test, y_pred_lassoCV)}\")\n",
    "print(f\"Lasso R2: {r2_score(y_test, y_pred_lassoCV)}\")\n",
    "print(y_pred_lassoCV)\n",
    "print(lassoCV.coef_)\n",
    "print(lassoCV.intercept_)\n",
    "lasso_initial_standardized_mse = mean_squared_error(y_test, y_pred_lassoCV)\n",
    "lasso_initial_standardized_r2 = r2_score(y_test, y_pred_lassoCV)"
   ]
  },
  {
   "cell_type": "code",
   "execution_count": 66,
   "metadata": {},
   "outputs": [
    {
     "name": "stdout",
     "output_type": "stream",
     "text": [
      "Lasso MSE: 4.524136111111125\n",
      "Lasso R2: -0.5654450211457194\n",
      "[47.82166667 47.82166667]\n",
      "[-0.00000000e+00 -0.00000000e+00  0.00000000e+00 -0.00000000e+00\n",
      " -1.36880692e-17 -0.00000000e+00 -0.00000000e+00  0.00000000e+00\n",
      " -0.00000000e+00]\n",
      "47.82166666666666\n"
     ]
    }
   ],
   "source": [
    "lassoCV1 = LassoCV(fit_intercept = True, cv = 10).fit(X_train, y_train)\n",
    "y_pred_lassoCV1 = lassoCV1.predict(X_test)\n",
    "print(f\"Lasso MSE: {mean_squared_error(y_test, y_pred_lassoCV1)}\")\n",
    "print(f\"Lasso R2: {r2_score(y_test, y_pred_lassoCV1)}\")\n",
    "print(y_pred_lassoCV1)\n",
    "print(lassoCV1.coef_)\n",
    "print(lassoCV1.intercept_)"
   ]
  },
  {
   "cell_type": "markdown",
   "metadata": {},
   "source": [
    "#### - PCA DataFrame"
   ]
  },
  {
   "cell_type": "code",
   "execution_count": 260,
   "metadata": {},
   "outputs": [
    {
     "name": "stdout",
     "output_type": "stream",
     "text": [
      "Lasso MSE: 4.524136111111125\n",
      "Lasso R2: -0.5654450211457194\n",
      "[47.82166667 47.82166667]\n",
      "[-0.00000000e+00  1.10123478e-16  0.00000000e+00 -0.00000000e+00\n",
      "  0.00000000e+00 -0.00000000e+00]\n",
      "47.82166666666666\n"
     ]
    }
   ],
   "source": [
    "lassoCV_pca = LassoCV(fit_intercept = True, cv = 10).fit(X_train_pca, y_train)\n",
    "y_pred_lassoCV_pca = lassoCV_pca.predict(X_test_pca)\n",
    "print(f\"Lasso MSE: {mean_squared_error(y_test, y_pred_lassoCV_pca)}\")\n",
    "print(f\"Lasso R2: {r2_score(y_test, y_pred_lassoCV_pca)}\")\n",
    "print(y_pred_lassoCV_pca)\n",
    "print(lassoCV_pca.coef_)\n",
    "print(lassoCV_pca.intercept_)\n",
    "lasso_pca_mse = mean_squared_error(y_test, y_pred_lassoCV_pca)\n",
    "lasso_pca_r2 = r2_score(y_test, y_pred_lassoCV_pca)"
   ]
  },
  {
   "cell_type": "code",
   "execution_count": 261,
   "metadata": {},
   "outputs": [
    {
     "data": {
      "text/html": [
       "<div>\n",
       "<style scoped>\n",
       "    .dataframe tbody tr th:only-of-type {\n",
       "        vertical-align: middle;\n",
       "    }\n",
       "\n",
       "    .dataframe tbody tr th {\n",
       "        vertical-align: top;\n",
       "    }\n",
       "\n",
       "    .dataframe thead th {\n",
       "        text-align: right;\n",
       "    }\n",
       "</style>\n",
       "<table border=\"1\" class=\"dataframe\">\n",
       "  <thead>\n",
       "    <tr style=\"text-align: right;\">\n",
       "      <th></th>\n",
       "      <th>regressor</th>\n",
       "      <th>MSE</th>\n",
       "      <th>R2</th>\n",
       "    </tr>\n",
       "  </thead>\n",
       "  <tbody>\n",
       "    <tr>\n",
       "      <th>0</th>\n",
       "      <td>Linear Regression Initial Data</td>\n",
       "      <td>98.184059</td>\n",
       "      <td>-32.973723</td>\n",
       "    </tr>\n",
       "    <tr>\n",
       "      <th>1</th>\n",
       "      <td>Linear Regression PCA</td>\n",
       "      <td>4.880006</td>\n",
       "      <td>-0.688584</td>\n",
       "    </tr>\n",
       "    <tr>\n",
       "      <th>2</th>\n",
       "      <td>Lasso Standardized Initial Data</td>\n",
       "      <td>4.524136</td>\n",
       "      <td>-0.565445</td>\n",
       "    </tr>\n",
       "    <tr>\n",
       "      <th>3</th>\n",
       "      <td>Lasso PCA</td>\n",
       "      <td>4.524136</td>\n",
       "      <td>-0.565445</td>\n",
       "    </tr>\n",
       "  </tbody>\n",
       "</table>\n",
       "</div>"
      ],
      "text/plain": [
       "                         regressor        MSE         R2\n",
       "0   Linear Regression Initial Data  98.184059 -32.973723\n",
       "1            Linear Regression PCA   4.880006  -0.688584\n",
       "2  Lasso Standardized Initial Data   4.524136  -0.565445\n",
       "3                        Lasso PCA   4.524136  -0.565445"
      ]
     },
     "metadata": {},
     "output_type": "display_data"
    }
   ],
   "source": [
    "results_df = pd.DataFrame({'regressor':['Linear Regression Initial Data', 'Linear Regression PCA', 'Lasso Standardized Initial Data', 'Lasso PCA'],\n",
    "                          'MSE':[lreg_initial_mse, lreg_pca_mse, lasso_initial_standardized_mse, lasso_pca_mse],\n",
    "                          'R2':[lreg_initial_r2, lreg_pca_r2, lasso_initial_standardized_r2, lasso_pca_r2]})\n",
    "display(results_df)"
   ]
  },
  {
   "cell_type": "markdown",
   "metadata": {},
   "source": [
    "#### The results with Lasso are worse that expected, it zeros all the coefficients and leaves only the intercept as non-zero."
   ]
  },
  {
   "cell_type": "markdown",
   "metadata": {},
   "source": [
    "### 3. k-NN\n",
    "#### - Initial DataFrame"
   ]
  },
  {
   "cell_type": "code",
   "execution_count": 266,
   "metadata": {},
   "outputs": [
    {
     "name": "stdout",
     "output_type": "stream",
     "text": [
      "NN with lowest MSE: 1.8810938775510044 on test set: 7.0\n",
      "NN with lowest MSE: 0.03827867818058003 using cross-validation: 19.0\n"
     ]
    }
   ],
   "source": [
    "n = np.linspace(1,20,20)\n",
    "mse_knn = []\n",
    "mse_knn1 = []\n",
    "\n",
    "for ni in n:\n",
    "    knn = KNeighborsRegressor(n_neighbors=int(ni)).fit(X_train1, y_train)\n",
    "    y_test_knn = knn.predict(X_test1)\n",
    "    mse_knn11 = cross_validate(knn, X_train1, y_train, cv = 3)\n",
    "    mse_knn1.append(np.mean(np.abs(mse_knn11['test_score'])))\n",
    "    mse_knn.append(mean_squared_error(y_test, y_test_knn))\n",
    "\n",
    "#print(mse_knn)\n",
    "#print(mse_knn1)\n",
    "print(f\"NN with lowest MSE: {np.min(mse_knn)} on test set: {n[np.argmin(mse_knn)]}\")\n",
    "print(f\"NN with lowest MSE: {np.min(mse_knn1)} using cross-validation: {n[np.argmin(mse_knn1)]}\")"
   ]
  },
  {
   "cell_type": "code",
   "execution_count": 269,
   "metadata": {},
   "outputs": [],
   "source": [
    "knn = KNeighborsRegressor(n_neighbors=19).fit(X_train1, y_train)\n",
    "y_test_knn = knn.predict(X_test1)\n",
    "knn_initial_standardized_mse = mean_squared_error(y_test, y_test_knn)\n",
    "knn_initial_strandardized_r2 = r2_score(y_test, y_test_knn)"
   ]
  },
  {
   "cell_type": "code",
   "execution_count": 270,
   "metadata": {},
   "outputs": [
    {
     "name": "stdout",
     "output_type": "stream",
     "text": [
      "NN with lowest MSE: 1.8951039062499935 on test set: 8.0\n",
      "NN with lowest MSE: 0.21933953419314864 using cross-validation: 21.0\n"
     ]
    }
   ],
   "source": [
    "n = np.linspace(1,30,30)\n",
    "mse_knn = []\n",
    "mse_knn1 = []\n",
    "\n",
    "for ni in n:\n",
    "    knn = KNeighborsRegressor(n_neighbors=int(ni)).fit(X_train, y_train)\n",
    "    y_test_knn = knn.predict(X_test)\n",
    "    mse_knn11 = cross_validate(knn, X_train, y_train, cv = 10)\n",
    "    mse_knn1.append(np.mean(np.abs(mse_knn11['test_score'])))\n",
    "    mse_knn.append(mean_squared_error(y_test, y_test_knn))\n",
    "\n",
    "print(f\"NN with lowest MSE: {np.min(mse_knn)} on test set: {n[np.argmin(mse_knn)]}\")\n",
    "print(f\"NN with lowest MSE: {np.min(mse_knn1)} using cross-validation: {n[np.argmin(mse_knn1)]}\")"
   ]
  },
  {
   "cell_type": "markdown",
   "metadata": {},
   "source": [
    "#### - PCA DataFrame"
   ]
  },
  {
   "cell_type": "code",
   "execution_count": 272,
   "metadata": {},
   "outputs": [
    {
     "name": "stdout",
     "output_type": "stream",
     "text": [
      "NN with lowest MSE: 2.3917000000000006 on test set: 6.0\n",
      "NN with lowest MSE: 0.03249975381702286 using cross-validation: 20.0\n"
     ]
    }
   ],
   "source": [
    "n = np.linspace(1,20,20)\n",
    "mse_knn_pca = []\n",
    "mse_knn1_pca = []\n",
    "\n",
    "for ni in n:\n",
    "    knn_pca = KNeighborsRegressor(n_neighbors=int(ni)).fit(X_train_pca, y_train)\n",
    "    y_test_knn_pca = knn_pca.predict(X_test_pca)\n",
    "    mse_knn11_pca = cross_validate(knn_pca, X_train_pca, y_train, cv = 3)\n",
    "    mse_knn1_pca.append(np.mean(np.abs(mse_knn11_pca['test_score'])))\n",
    "    mse_knn_pca.append(mean_squared_error(y_test, y_test_knn_pca))\n",
    "\n",
    "print(f\"NN with lowest MSE: {np.min(mse_knn_pca)} on test set: {n[np.argmin(mse_knn_pca)]}\")\n",
    "print(f\"NN with lowest MSE: {np.min(mse_knn1_pca)} using cross-validation: {n[np.argmin(mse_knn1_pca)]}\")"
   ]
  },
  {
   "cell_type": "code",
   "execution_count": 273,
   "metadata": {},
   "outputs": [],
   "source": [
    "knn_pca = KNeighborsRegressor(n_neighbors=19).fit(X_train_pca, y_train)\n",
    "y_test_knn_pca = knn_pca.predict(X_test_pca)\n",
    "knn_pca_mse = mean_squared_error(y_test, y_test_knn_pca)\n",
    "knn_pca_r2 = r2_score(y_test, y_test_knn_pca)"
   ]
  },
  {
   "cell_type": "code",
   "execution_count": 277,
   "metadata": {},
   "outputs": [
    {
     "data": {
      "text/html": [
       "<div>\n",
       "<style scoped>\n",
       "    .dataframe tbody tr th:only-of-type {\n",
       "        vertical-align: middle;\n",
       "    }\n",
       "\n",
       "    .dataframe tbody tr th {\n",
       "        vertical-align: top;\n",
       "    }\n",
       "\n",
       "    .dataframe thead th {\n",
       "        text-align: right;\n",
       "    }\n",
       "</style>\n",
       "<table border=\"1\" class=\"dataframe\">\n",
       "  <thead>\n",
       "    <tr style=\"text-align: right;\">\n",
       "      <th></th>\n",
       "      <th>regressor</th>\n",
       "      <th>MSE</th>\n",
       "      <th>R2</th>\n",
       "    </tr>\n",
       "  </thead>\n",
       "  <tbody>\n",
       "    <tr>\n",
       "      <th>0</th>\n",
       "      <td>Linear Regression Initial Data</td>\n",
       "      <td>98.184059</td>\n",
       "      <td>-32.973723</td>\n",
       "    </tr>\n",
       "    <tr>\n",
       "      <th>1</th>\n",
       "      <td>Linear Regression PCA</td>\n",
       "      <td>4.880006</td>\n",
       "      <td>-0.688584</td>\n",
       "    </tr>\n",
       "    <tr>\n",
       "      <th>2</th>\n",
       "      <td>Lasso Standardized Initial Data</td>\n",
       "      <td>4.524136</td>\n",
       "      <td>-0.565445</td>\n",
       "    </tr>\n",
       "    <tr>\n",
       "      <th>3</th>\n",
       "      <td>Lasso PCA</td>\n",
       "      <td>4.524136</td>\n",
       "      <td>-0.565445</td>\n",
       "    </tr>\n",
       "    <tr>\n",
       "      <th>4</th>\n",
       "      <td>kNN Standardized Initial Data</td>\n",
       "      <td>2.822032</td>\n",
       "      <td>0.023518</td>\n",
       "    </tr>\n",
       "    <tr>\n",
       "      <th>5</th>\n",
       "      <td>kNN PCA Data</td>\n",
       "      <td>5.455055</td>\n",
       "      <td>-0.887562</td>\n",
       "    </tr>\n",
       "  </tbody>\n",
       "</table>\n",
       "</div>"
      ],
      "text/plain": [
       "                         regressor        MSE         R2\n",
       "0   Linear Regression Initial Data  98.184059 -32.973723\n",
       "1            Linear Regression PCA   4.880006  -0.688584\n",
       "2  Lasso Standardized Initial Data   4.524136  -0.565445\n",
       "3                        Lasso PCA   4.524136  -0.565445\n",
       "4    kNN Standardized Initial Data   2.822032   0.023518\n",
       "5                     kNN PCA Data   5.455055  -0.887562"
      ]
     },
     "metadata": {},
     "output_type": "display_data"
    }
   ],
   "source": [
    "results_df = pd.DataFrame({'regressor':['Linear Regression Initial Data', 'Linear Regression PCA', 'Lasso Standardized Initial Data', 'Lasso PCA','kNN Standardized Initial Data', 'kNN PCA Data'],\n",
    "                          'MSE':[lreg_initial_mse, lreg_pca_mse, lasso_initial_standardized_mse, lasso_pca_mse, knn_initial_standardized_mse, knn_pca_mse],\n",
    "                          'R2':[lreg_initial_r2, lreg_pca_r2, lasso_initial_standardized_r2, lasso_pca_r2, knn_initial_strandardized_r2, knn_pca_r2]})\n",
    "display(results_df)"
   ]
  },
  {
   "cell_type": "markdown",
   "metadata": {},
   "source": [
    "### 4. DecisionTreeRegressor\n",
    "#### - Initial DataFrame"
   ]
  },
  {
   "cell_type": "code",
   "execution_count": 103,
   "metadata": {},
   "outputs": [
    {
     "name": "stdout",
     "output_type": "stream",
     "text": [
      "The lowest MSE: 0.5230325794015717, with max_tree depth: 1.0\n",
      "The lowest test MSE: 0.1060050661157033, with max_tree depth: 3.0\n"
     ]
    }
   ],
   "source": [
    "max_depths = np.linspace(1,20,20)\n",
    "mse_dtree = []\n",
    "mse_dtree_test = []\n",
    "\n",
    "for max_depth in max_depths:\n",
    "    dtree =  DecisionTreeRegressor(max_depth = max_depth).fit(X_train, y_train)\n",
    "    mse_dtree1 = cross_validate(dtree, X_train, y_train, cv = 3)\n",
    "    mse_dtree.append(np.mean(np.abs(mse_dtree1['test_score'])))\n",
    "    y_test_pred_dtree = dtree.predict(X_test)\n",
    "    mse_dtree_test.append(mean_squared_error(y_test,y_test_pred_dtree))\n",
    "\n",
    "print(f\"The lowest MSE: {np.min(mse_dtree)}, with max_tree depth: {max_depths[np.argmin(mse_dtree)]}\")\n",
    "print(f\"The lowest test MSE: {np.min(mse_dtree_test)}, with max_tree depth: {max_depths[np.argmin(mse_dtree_test)]}\")"
   ]
  },
  {
   "cell_type": "code",
   "execution_count": 284,
   "metadata": {},
   "outputs": [
    {
     "name": "stdout",
     "output_type": "stream",
     "text": [
      "[48.29705882 48.29705882]\n",
      "[47.4 50.8]\n",
      "-0.22308461345050867\n",
      "3.5347145328719667\n"
     ]
    }
   ],
   "source": [
    "dtree_best = DecisionTreeRegressor(max_depth = 1).fit(X_train, y_train)\n",
    "y_test_pred_best = dtree_best.predict(X_test)\n",
    "print(dtree_best.predict(X_test))\n",
    "print(y_test)\n",
    "print(r2_score(y_test, y_test_pred_best))\n",
    "print(mean_squared_error(y_test, y_test_pred_best))\n",
    "\n",
    "dtree_initial_mse = mean_squared_error(y_test, y_test_pred_best)\n",
    "dtree_initial_r2 = r2_score(y_test, y_test_pred_best)"
   ]
  },
  {
   "cell_type": "markdown",
   "metadata": {},
   "source": [
    "#### - PCA"
   ]
  },
  {
   "cell_type": "code",
   "execution_count": 105,
   "metadata": {},
   "outputs": [
    {
     "name": "stdout",
     "output_type": "stream",
     "text": [
      "The lowest MSE: 0.07256452909892437, with max_tree depth: 1.0\n",
      "The lowest test MSE: 2.9084640138408284, with max_tree depth: 5.0\n"
     ]
    }
   ],
   "source": [
    "max_depths = np.linspace(1,20,20)\n",
    "mse_dtree_pca = []\n",
    "mse_dtree_test_pca = []\n",
    "\n",
    "for max_depth in max_depths:\n",
    "    dtree_pca =  DecisionTreeRegressor(max_depth = max_depth).fit(X_train_pca, y_train)\n",
    "    mse_dtree1_pca = cross_validate(dtree_pca, X_train_pca, y_train, cv = 3)\n",
    "    mse_dtree_pca.append(np.mean(np.abs(mse_dtree1_pca['test_score'])))\n",
    "    y_test_pred_dtree_pca = dtree_pca.predict(X_test_pca)\n",
    "    mse_dtree_test_pca.append(mean_squared_error(y_test,y_test_pred_dtree_pca))\n",
    "\n",
    "print(f\"The lowest MSE: {np.min(mse_dtree_pca)}, with max_tree depth: {max_depths[np.argmin(mse_dtree_pca)]}\")\n",
    "print(f\"The lowest test MSE: {np.min(mse_dtree_test_pca)}, with max_tree depth: {max_depths[np.argmin(mse_dtree_test_pca)]}\")"
   ]
  },
  {
   "cell_type": "code",
   "execution_count": 287,
   "metadata": {},
   "outputs": [
    {
     "name": "stdout",
     "output_type": "stream",
     "text": [
      "[48.56515152 48.56515152]\n",
      "[47.4 50.8]\n",
      "-0.09898370302585491\n",
      "3.176062901744718\n"
     ]
    }
   ],
   "source": [
    "dtree_pca = DecisionTreeRegressor(max_depth = 1).fit(X_train_pca, y_train)\n",
    "y_test_pred_pca = dtree_pca.predict(X_test_pca)\n",
    "print(dtree_pca.predict(X_test_pca))\n",
    "print(y_test)\n",
    "print(r2_score(y_test, y_test_pred_pca))\n",
    "print(mean_squared_error(y_test, y_test_pred_pca))\n",
    "\n",
    "dtree_pca_mse = mean_squared_error(y_test, y_test_pred_pca)\n",
    "dtree_pca_r2 = r2_score(y_test, y_test_pred_pca)"
   ]
  },
  {
   "cell_type": "code",
   "execution_count": 288,
   "metadata": {},
   "outputs": [
    {
     "data": {
      "text/html": [
       "<div>\n",
       "<style scoped>\n",
       "    .dataframe tbody tr th:only-of-type {\n",
       "        vertical-align: middle;\n",
       "    }\n",
       "\n",
       "    .dataframe tbody tr th {\n",
       "        vertical-align: top;\n",
       "    }\n",
       "\n",
       "    .dataframe thead th {\n",
       "        text-align: right;\n",
       "    }\n",
       "</style>\n",
       "<table border=\"1\" class=\"dataframe\">\n",
       "  <thead>\n",
       "    <tr style=\"text-align: right;\">\n",
       "      <th></th>\n",
       "      <th>regressor</th>\n",
       "      <th>MSE</th>\n",
       "      <th>R2</th>\n",
       "    </tr>\n",
       "  </thead>\n",
       "  <tbody>\n",
       "    <tr>\n",
       "      <th>0</th>\n",
       "      <td>Linear Regression Initial Data</td>\n",
       "      <td>98.184059</td>\n",
       "      <td>-32.973723</td>\n",
       "    </tr>\n",
       "    <tr>\n",
       "      <th>1</th>\n",
       "      <td>Linear Regression PCA</td>\n",
       "      <td>4.880006</td>\n",
       "      <td>-0.688584</td>\n",
       "    </tr>\n",
       "    <tr>\n",
       "      <th>2</th>\n",
       "      <td>Lasso Standardized Initial Data</td>\n",
       "      <td>4.524136</td>\n",
       "      <td>-0.565445</td>\n",
       "    </tr>\n",
       "    <tr>\n",
       "      <th>3</th>\n",
       "      <td>Lasso PCA</td>\n",
       "      <td>4.524136</td>\n",
       "      <td>-0.565445</td>\n",
       "    </tr>\n",
       "    <tr>\n",
       "      <th>4</th>\n",
       "      <td>kNN Standardized Initial Data</td>\n",
       "      <td>2.822032</td>\n",
       "      <td>0.023518</td>\n",
       "    </tr>\n",
       "    <tr>\n",
       "      <th>5</th>\n",
       "      <td>kNN PCA Data</td>\n",
       "      <td>5.455055</td>\n",
       "      <td>-0.887562</td>\n",
       "    </tr>\n",
       "    <tr>\n",
       "      <th>6</th>\n",
       "      <td>Decision Tree Initial Data</td>\n",
       "      <td>3.176063</td>\n",
       "      <td>-0.098984</td>\n",
       "    </tr>\n",
       "    <tr>\n",
       "      <th>7</th>\n",
       "      <td>Decision Tree PCA</td>\n",
       "      <td>3.176063</td>\n",
       "      <td>-0.098984</td>\n",
       "    </tr>\n",
       "  </tbody>\n",
       "</table>\n",
       "</div>"
      ],
      "text/plain": [
       "                         regressor        MSE         R2\n",
       "0   Linear Regression Initial Data  98.184059 -32.973723\n",
       "1            Linear Regression PCA   4.880006  -0.688584\n",
       "2  Lasso Standardized Initial Data   4.524136  -0.565445\n",
       "3                        Lasso PCA   4.524136  -0.565445\n",
       "4    kNN Standardized Initial Data   2.822032   0.023518\n",
       "5                     kNN PCA Data   5.455055  -0.887562\n",
       "6       Decision Tree Initial Data   3.176063  -0.098984\n",
       "7                Decision Tree PCA   3.176063  -0.098984"
      ]
     },
     "metadata": {},
     "output_type": "display_data"
    }
   ],
   "source": [
    "results_df = pd.DataFrame({'regressor':['Linear Regression Initial Data', 'Linear Regression PCA', 'Lasso Standardized Initial Data', 'Lasso PCA','kNN Standardized Initial Data', 'kNN PCA Data', 'Decision Tree Initial Data', 'Decision Tree PCA'],\n",
    "                          'MSE':[lreg_initial_mse, lreg_pca_mse, lasso_initial_standardized_mse, lasso_pca_mse, knn_initial_standardized_mse, knn_pca_mse, dtree_initial_mse, dtree_pca_mse],\n",
    "                          'R2':[lreg_initial_r2, lreg_pca_r2, lasso_initial_standardized_r2, lasso_pca_r2, knn_initial_strandardized_r2, knn_pca_r2, dtree_initial_r2, dtree_pca_r2]})\n",
    "display(results_df)"
   ]
  },
  {
   "cell_type": "markdown",
   "metadata": {},
   "source": [
    "### 5. RandomForrestRegressor\n",
    "#### - Initial DataFrame"
   ]
  },
  {
   "cell_type": "markdown",
   "metadata": {},
   "source": [
    "**Here we need better hyperparameter tunning and also to determine a random state**"
   ]
  },
  {
   "cell_type": "code",
   "execution_count": 293,
   "metadata": {},
   "outputs": [
    {
     "name": "stdout",
     "output_type": "stream",
     "text": [
      "[0.2722395452074928, 0.41019710417999583, 0.4312511551136617, 0.48860418994631166, 0.45745119558382935, 0.46143621842110255, 0.4726748380580712, 0.48005663538186183, 0.4787613017579991, 0.47773676459565423, 0.47825809666898395, 0.47817879360780274, 0.47817879360780274, 0.47817879360780274, 0.47817879360780274, 0.47817879360780274, 0.47817879360780274, 0.47817879360780274, 0.47817879360780274, 0.47817879360780274]\n"
     ]
    }
   ],
   "source": [
    "max_depths = np.linspace(1,20,20)\n",
    "\n",
    "mse_rf = []\n",
    "for max_depth in max_depths:\n",
    "    rf = RandomForestRegressor(n_estimators = 100, max_depth = max_depth, random_state = 42).fit(X_train, y_train)\n",
    "    mse_rf1 = cross_validate(rf, X_train, y_train, cv = 3)\n",
    "    mse_rf.append(np.mean(np.abs(mse_rf1['test_score'])))\n",
    "print(mse_rf)"
   ]
  },
  {
   "cell_type": "code",
   "execution_count": 294,
   "metadata": {},
   "outputs": [
    {
     "name": "stdout",
     "output_type": "stream",
     "text": [
      "1.0\n"
     ]
    }
   ],
   "source": [
    "d = max_depths[np.argmin(mse_rf)]\n",
    "print(d)"
   ]
  },
  {
   "cell_type": "code",
   "execution_count": 308,
   "metadata": {},
   "outputs": [
    {
     "name": "stdout",
     "output_type": "stream",
     "text": [
      "-0.8069674570412915\n",
      "[47.04455289 47.58784663]\n"
     ]
    }
   ],
   "source": [
    "rf = RandomForestRegressor(n_estimators = 163, max_depth = 1, random_state = 42).fit(X_train, y_train)\n",
    "y_test_pred_rf = rf.predict(X_test)\n",
    "print(r2_score(y_test, y_test_pred_rf))\n",
    "print(y_test_pred_rf)\n",
    "\n",
    "rf_initial_mse = mean_squared_error(y_test, y_test_pred_rf)\n",
    "rf_initial_r2 = r2_score(y_test, y_test_pred_rf)"
   ]
  },
  {
   "cell_type": "code",
   "execution_count": 303,
   "metadata": {},
   "outputs": [
    {
     "name": "stdout",
     "output_type": "stream",
     "text": [
      "Fitting 3 folds for each of 200 candidates, totalling 600 fits\n"
     ]
    },
    {
     "name": "stderr",
     "output_type": "stream",
     "text": [
      "[Parallel(n_jobs=-1)]: Using backend LokyBackend with 8 concurrent workers.\n",
      "[Parallel(n_jobs=-1)]: Done  34 tasks      | elapsed:    2.8s\n",
      "[Parallel(n_jobs=-1)]: Done 178 tasks      | elapsed:   16.7s\n",
      "[Parallel(n_jobs=-1)]: Done 381 tasks      | elapsed:   37.4s\n",
      "[Parallel(n_jobs=-1)]: Done 600 out of 600 | elapsed:   59.8s finished\n"
     ]
    },
    {
     "data": {
      "text/plain": [
       "{'max_depth': 1, 'n_estimators': 163}"
      ]
     },
     "execution_count": 303,
     "metadata": {},
     "output_type": "execute_result"
    }
   ],
   "source": [
    "# Number of trees in random forest\n",
    "n_estimators = [int(x) for x in np.linspace(start = 10, stop = 700, num = 10)]\n",
    "# Maximum number of levels in tree\n",
    "max_depth = [int(x) for x in np.linspace(1, 20, 20)]\n",
    "# Create the random grid\n",
    "param_grid = {'n_estimators': n_estimators,\n",
    "               'max_depth': max_depth}\n",
    "\n",
    "# Create a based model\n",
    "rf = RandomForestRegressor(random_state = 42)\n",
    "# Instantiate the grid search model\n",
    "grid_search = GridSearchCV(estimator = rf, param_grid = param_grid, \n",
    "                          cv = 3, scoring = 'r2', n_jobs = -1, verbose = 2)\n",
    "grid_search.fit(X_train, y_train)\n",
    "\n",
    "grid_search.best_params_\n"
   ]
  },
  {
   "cell_type": "markdown",
   "metadata": {},
   "source": [
    "#### - PCA DataFrame"
   ]
  },
  {
   "cell_type": "code",
   "execution_count": 309,
   "metadata": {},
   "outputs": [
    {
     "name": "stdout",
     "output_type": "stream",
     "text": [
      "[0.2721728521493502, 0.2768589920421576, 0.20466616125611256, 0.22723576989775443, 0.20346306418622842, 0.18135083230046942, 0.17462477993073264, 0.17364658750301212, 0.17295502907980662, 0.17334402283712422, 0.17263287111135303, 0.17263287111135303, 0.17263287111135303, 0.17263287111135303, 0.17263287111135303, 0.17263287111135303, 0.17263287111135303, 0.17263287111135303, 0.17263287111135303, 0.17263287111135303]\n"
     ]
    }
   ],
   "source": [
    "max_depths = np.linspace(1,20,20)\n",
    "\n",
    "mse_rf_pca = []\n",
    "for max_depth in max_depths:\n",
    "    rf_pca = RandomForestRegressor(n_estimators = 100, max_depth = max_depth, random_state = 42).fit(X_train_pca, y_train)\n",
    "    mse_rf1_pca = cross_validate(rf_pca, X_train_pca, y_train, cv = 3)\n",
    "    mse_rf_pca.append(np.mean(np.abs(mse_rf1_pca['test_score'])))\n",
    "print(mse_rf_pca)"
   ]
  },
  {
   "cell_type": "code",
   "execution_count": 310,
   "metadata": {},
   "outputs": [
    {
     "name": "stdout",
     "output_type": "stream",
     "text": [
      "11.0\n"
     ]
    }
   ],
   "source": [
    "d = max_depths[np.argmin(mse_rf_pca)]\n",
    "print(d)"
   ]
  },
  {
   "cell_type": "code",
   "execution_count": 311,
   "metadata": {},
   "outputs": [
    {
     "name": "stdout",
     "output_type": "stream",
     "text": [
      "-0.6618301038062351\n",
      "[47.717 47.717]\n"
     ]
    }
   ],
   "source": [
    "rf_pca = RandomForestRegressor(n_estimators = 100, max_depth = d, random_state = 42).fit(X_train_pca, y_train)\n",
    "y_test_pred_rf_pca = rf_pca.predict(X_test_pca)\n",
    "print(r2_score(y_test, y_test_pred_rf_pca))\n",
    "print(y_test_pred_rf_pca)"
   ]
  },
  {
   "cell_type": "code",
   "execution_count": 312,
   "metadata": {},
   "outputs": [
    {
     "name": "stdout",
     "output_type": "stream",
     "text": [
      "Fitting 3 folds for each of 200 candidates, totalling 600 fits\n"
     ]
    },
    {
     "name": "stderr",
     "output_type": "stream",
     "text": [
      "[Parallel(n_jobs=-1)]: Using backend LokyBackend with 8 concurrent workers.\n",
      "[Parallel(n_jobs=-1)]: Done  34 tasks      | elapsed:    2.9s\n",
      "[Parallel(n_jobs=-1)]: Done 178 tasks      | elapsed:   16.7s\n",
      "[Parallel(n_jobs=-1)]: Done 381 tasks      | elapsed:   36.9s\n",
      "[Parallel(n_jobs=-1)]: Done 600 out of 600 | elapsed:  1.0min finished\n"
     ]
    },
    {
     "data": {
      "text/plain": [
       "{'max_depth': 5, 'n_estimators': 700}"
      ]
     },
     "execution_count": 312,
     "metadata": {},
     "output_type": "execute_result"
    }
   ],
   "source": [
    "# Number of trees in random forest\n",
    "n_estimators = [int(x) for x in np.linspace(start = 10, stop = 700, num = 10)]\n",
    "# Maximum number of levels in tree\n",
    "max_depth = [int(x) for x in np.linspace(1, 20, 20)]\n",
    "# Create the random grid\n",
    "param_grid = {'n_estimators': n_estimators,\n",
    "               'max_depth': max_depth}\n",
    "\n",
    "# Create a based model\n",
    "rf = RandomForestRegressor(random_state = 42)\n",
    "# Instantiate the grid search model\n",
    "grid_search = GridSearchCV(estimator = rf, param_grid = param_grid, \n",
    "                          cv = 3, scoring = 'r2', n_jobs = -1, verbose = 2)\n",
    "grid_search.fit(X_train_pca, y_train)\n",
    "\n",
    "grid_search.best_params_"
   ]
  },
  {
   "cell_type": "code",
   "execution_count": 315,
   "metadata": {},
   "outputs": [
    {
     "name": "stdout",
     "output_type": "stream",
     "text": [
      "-1.6241819846322127\n",
      "[46.98365808 46.92773564]\n"
     ]
    }
   ],
   "source": [
    "rf_pca = RandomForestRegressor(n_estimators = 700, max_depth = 5, random_state = 42).fit(X_train_pca, y_train)\n",
    "y_test_pred_rf_pca = rf_pca.predict(X_test_pca)\n",
    "print(r2_score(y_test, y_test_pred_rf_pca))\n",
    "print(y_test_pred_rf_pca)\n",
    "\n",
    "rf_pca_mse = mean_squared_error(y_test, y_test_pred_rf_pca)\n",
    "rf_pca_r2 = r2_score(y_test, y_test_pred_rf_pca)"
   ]
  },
  {
   "cell_type": "code",
   "execution_count": 316,
   "metadata": {},
   "outputs": [
    {
     "data": {
      "text/html": [
       "<div>\n",
       "<style scoped>\n",
       "    .dataframe tbody tr th:only-of-type {\n",
       "        vertical-align: middle;\n",
       "    }\n",
       "\n",
       "    .dataframe tbody tr th {\n",
       "        vertical-align: top;\n",
       "    }\n",
       "\n",
       "    .dataframe thead th {\n",
       "        text-align: right;\n",
       "    }\n",
       "</style>\n",
       "<table border=\"1\" class=\"dataframe\">\n",
       "  <thead>\n",
       "    <tr style=\"text-align: right;\">\n",
       "      <th></th>\n",
       "      <th>regressor</th>\n",
       "      <th>MSE</th>\n",
       "      <th>R2</th>\n",
       "    </tr>\n",
       "  </thead>\n",
       "  <tbody>\n",
       "    <tr>\n",
       "      <th>0</th>\n",
       "      <td>Linear Regression Initial Data</td>\n",
       "      <td>98.184059</td>\n",
       "      <td>-32.973723</td>\n",
       "    </tr>\n",
       "    <tr>\n",
       "      <th>1</th>\n",
       "      <td>Linear Regression PCA</td>\n",
       "      <td>4.880006</td>\n",
       "      <td>-0.688584</td>\n",
       "    </tr>\n",
       "    <tr>\n",
       "      <th>2</th>\n",
       "      <td>Lasso Standardized Initial Data</td>\n",
       "      <td>4.524136</td>\n",
       "      <td>-0.565445</td>\n",
       "    </tr>\n",
       "    <tr>\n",
       "      <th>3</th>\n",
       "      <td>Lasso PCA</td>\n",
       "      <td>4.524136</td>\n",
       "      <td>-0.565445</td>\n",
       "    </tr>\n",
       "    <tr>\n",
       "      <th>4</th>\n",
       "      <td>kNN Standardized Initial Data</td>\n",
       "      <td>2.822032</td>\n",
       "      <td>0.023518</td>\n",
       "    </tr>\n",
       "    <tr>\n",
       "      <th>5</th>\n",
       "      <td>kNN PCA Data</td>\n",
       "      <td>5.455055</td>\n",
       "      <td>-0.887562</td>\n",
       "    </tr>\n",
       "    <tr>\n",
       "      <th>6</th>\n",
       "      <td>Decision Tree Initial Data</td>\n",
       "      <td>3.176063</td>\n",
       "      <td>-0.098984</td>\n",
       "    </tr>\n",
       "    <tr>\n",
       "      <th>7</th>\n",
       "      <td>Decision Tree PCA</td>\n",
       "      <td>3.176063</td>\n",
       "      <td>-0.098984</td>\n",
       "    </tr>\n",
       "    <tr>\n",
       "      <th>8</th>\n",
       "      <td>Random Forrest Initial Data</td>\n",
       "      <td>5.222136</td>\n",
       "      <td>-0.806967</td>\n",
       "    </tr>\n",
       "    <tr>\n",
       "      <th>9</th>\n",
       "      <td>Random Forrest PCA</td>\n",
       "      <td>7.583886</td>\n",
       "      <td>-1.624182</td>\n",
       "    </tr>\n",
       "  </tbody>\n",
       "</table>\n",
       "</div>"
      ],
      "text/plain": [
       "                         regressor        MSE         R2\n",
       "0   Linear Regression Initial Data  98.184059 -32.973723\n",
       "1            Linear Regression PCA   4.880006  -0.688584\n",
       "2  Lasso Standardized Initial Data   4.524136  -0.565445\n",
       "3                        Lasso PCA   4.524136  -0.565445\n",
       "4    kNN Standardized Initial Data   2.822032   0.023518\n",
       "5                     kNN PCA Data   5.455055  -0.887562\n",
       "6       Decision Tree Initial Data   3.176063  -0.098984\n",
       "7                Decision Tree PCA   3.176063  -0.098984\n",
       "8      Random Forrest Initial Data   5.222136  -0.806967\n",
       "9               Random Forrest PCA   7.583886  -1.624182"
      ]
     },
     "metadata": {},
     "output_type": "display_data"
    }
   ],
   "source": [
    "results_df = pd.DataFrame({'regressor':['Linear Regression Initial Data', 'Linear Regression PCA', 'Lasso Standardized Initial Data', 'Lasso PCA','kNN Standardized Initial Data', 'kNN PCA Data', 'Decision Tree Initial Data', 'Decision Tree PCA', 'Random Forrest Initial Data', 'Random Forrest PCA'],\n",
    "                          'MSE':[lreg_initial_mse, lreg_pca_mse, lasso_initial_standardized_mse, lasso_pca_mse, knn_initial_standardized_mse, knn_pca_mse, dtree_initial_mse, dtree_pca_mse, rf_initial_mse, rf_pca_mse],\n",
    "                          'R2':[lreg_initial_r2, lreg_pca_r2, lasso_initial_standardized_r2, lasso_pca_r2, knn_initial_strandardized_r2, knn_pca_r2, dtree_initial_r2, dtree_pca_r2, rf_initial_r2, rf_pca_r2]})\n",
    "display(results_df)"
   ]
  },
  {
   "cell_type": "markdown",
   "metadata": {},
   "source": [
    "### 6. Boosting\n",
    "#### - Initial DataFrame"
   ]
  },
  {
   "cell_type": "code",
   "execution_count": 194,
   "metadata": {},
   "outputs": [
    {
     "name": "stdout",
     "output_type": "stream",
     "text": [
      "Fitting 3 folds for each of 100 candidates, totalling 300 fits\n"
     ]
    },
    {
     "name": "stderr",
     "output_type": "stream",
     "text": [
      "[Parallel(n_jobs=-1)]: Using backend LokyBackend with 8 concurrent workers.\n",
      "[Parallel(n_jobs=-1)]: Done  25 tasks      | elapsed:    2.5s\n",
      "[Parallel(n_jobs=-1)]: Done 146 tasks      | elapsed:    7.2s\n",
      "[Parallel(n_jobs=-1)]: Done 300 out of 300 | elapsed:   12.4s finished\n",
      "[Parallel(n_jobs=-1)]: Using backend LokyBackend with 8 concurrent workers.\n"
     ]
    },
    {
     "name": "stdout",
     "output_type": "stream",
     "text": [
      "{'learning_rate': 0.1, 'n_estimators': 88}\n",
      "Fitting 3 folds for each of 100 candidates, totalling 300 fits\n"
     ]
    },
    {
     "name": "stderr",
     "output_type": "stream",
     "text": [
      "[Parallel(n_jobs=-1)]: Done  34 tasks      | elapsed:    1.9s\n",
      "[Parallel(n_jobs=-1)]: Done 178 tasks      | elapsed:    9.2s\n",
      "[Parallel(n_jobs=-1)]: Done 300 out of 300 | elapsed:   15.4s finished\n",
      "[Parallel(n_jobs=-1)]: Using backend LokyBackend with 8 concurrent workers.\n"
     ]
    },
    {
     "name": "stdout",
     "output_type": "stream",
     "text": [
      "{'learning_rate': 0.1, 'n_estimators': 88}\n",
      "Fitting 3 folds for each of 100 candidates, totalling 300 fits\n"
     ]
    },
    {
     "name": "stderr",
     "output_type": "stream",
     "text": [
      "[Parallel(n_jobs=-1)]: Done  34 tasks      | elapsed:    2.0s\n",
      "[Parallel(n_jobs=-1)]: Done 178 tasks      | elapsed:   12.2s\n",
      "[Parallel(n_jobs=-1)]: Done 300 out of 300 | elapsed:   20.9s finished\n",
      "[Parallel(n_jobs=-1)]: Using backend LokyBackend with 8 concurrent workers.\n"
     ]
    },
    {
     "name": "stdout",
     "output_type": "stream",
     "text": [
      "{'learning_rate': 0.1, 'n_estimators': 165}\n",
      "Fitting 3 folds for each of 100 candidates, totalling 300 fits\n"
     ]
    },
    {
     "name": "stderr",
     "output_type": "stream",
     "text": [
      "[Parallel(n_jobs=-1)]: Done  34 tasks      | elapsed:    2.0s\n",
      "[Parallel(n_jobs=-1)]: Done 178 tasks      | elapsed:   12.7s\n",
      "[Parallel(n_jobs=-1)]: Done 300 out of 300 | elapsed:   21.5s finished\n"
     ]
    },
    {
     "name": "stdout",
     "output_type": "stream",
     "text": [
      "{'learning_rate': 1, 'n_estimators': 191}\n",
      "Fitting 3 folds for each of 100 candidates, totalling 300 fits\n"
     ]
    },
    {
     "name": "stderr",
     "output_type": "stream",
     "text": [
      "[Parallel(n_jobs=-1)]: Using backend LokyBackend with 8 concurrent workers.\n",
      "[Parallel(n_jobs=-1)]: Done  34 tasks      | elapsed:    2.0s\n",
      "[Parallel(n_jobs=-1)]: Done 178 tasks      | elapsed:   12.5s\n",
      "[Parallel(n_jobs=-1)]: Done 300 out of 300 | elapsed:   21.4s finished\n"
     ]
    },
    {
     "name": "stdout",
     "output_type": "stream",
     "text": [
      "{'learning_rate': 0.1, 'n_estimators': 165}\n",
      "Fitting 3 folds for each of 100 candidates, totalling 300 fits\n"
     ]
    },
    {
     "name": "stderr",
     "output_type": "stream",
     "text": [
      "[Parallel(n_jobs=-1)]: Using backend LokyBackend with 8 concurrent workers.\n",
      "[Parallel(n_jobs=-1)]: Done  34 tasks      | elapsed:    2.0s\n",
      "[Parallel(n_jobs=-1)]: Done 178 tasks      | elapsed:   12.4s\n",
      "[Parallel(n_jobs=-1)]: Done 300 out of 300 | elapsed:   21.2s finished\n"
     ]
    },
    {
     "name": "stdout",
     "output_type": "stream",
     "text": [
      "{'learning_rate': 1, 'n_estimators': 320}\n",
      "Fitting 3 folds for each of 100 candidates, totalling 300 fits\n"
     ]
    },
    {
     "name": "stderr",
     "output_type": "stream",
     "text": [
      "[Parallel(n_jobs=-1)]: Using backend LokyBackend with 8 concurrent workers.\n",
      "[Parallel(n_jobs=-1)]: Done  34 tasks      | elapsed:    2.0s\n",
      "[Parallel(n_jobs=-1)]: Done 178 tasks      | elapsed:   12.2s\n",
      "[Parallel(n_jobs=-1)]: Done 300 out of 300 | elapsed:   21.5s finished\n"
     ]
    },
    {
     "name": "stdout",
     "output_type": "stream",
     "text": [
      "{'learning_rate': 1, 'n_estimators': 372}\n",
      "Fitting 3 folds for each of 100 candidates, totalling 300 fits\n"
     ]
    },
    {
     "name": "stderr",
     "output_type": "stream",
     "text": [
      "[Parallel(n_jobs=-1)]: Using backend LokyBackend with 8 concurrent workers.\n",
      "[Parallel(n_jobs=-1)]: Done  34 tasks      | elapsed:    2.3s\n",
      "[Parallel(n_jobs=-1)]: Done 178 tasks      | elapsed:   13.4s\n",
      "[Parallel(n_jobs=-1)]: Done 300 out of 300 | elapsed:   22.8s finished\n"
     ]
    },
    {
     "name": "stdout",
     "output_type": "stream",
     "text": [
      "{'learning_rate': 1, 'n_estimators': 449}\n",
      "Fitting 3 folds for each of 100 candidates, totalling 300 fits\n"
     ]
    },
    {
     "name": "stderr",
     "output_type": "stream",
     "text": [
      "[Parallel(n_jobs=-1)]: Using backend LokyBackend with 8 concurrent workers.\n",
      "[Parallel(n_jobs=-1)]: Done  34 tasks      | elapsed:    2.2s\n",
      "[Parallel(n_jobs=-1)]: Done 178 tasks      | elapsed:   12.7s\n",
      "[Parallel(n_jobs=-1)]: Done 300 out of 300 | elapsed:   21.6s finished\n"
     ]
    },
    {
     "name": "stdout",
     "output_type": "stream",
     "text": [
      "{'learning_rate': 1, 'n_estimators': 397}\n",
      "Fitting 3 folds for each of 100 candidates, totalling 300 fits\n"
     ]
    },
    {
     "name": "stderr",
     "output_type": "stream",
     "text": [
      "[Parallel(n_jobs=-1)]: Using backend LokyBackend with 8 concurrent workers.\n",
      "[Parallel(n_jobs=-1)]: Done  34 tasks      | elapsed:    2.2s\n",
      "[Parallel(n_jobs=-1)]: Done 178 tasks      | elapsed:   13.0s\n",
      "[Parallel(n_jobs=-1)]: Done 300 out of 300 | elapsed:   22.2s finished\n"
     ]
    },
    {
     "name": "stdout",
     "output_type": "stream",
     "text": [
      "{'learning_rate': 1, 'n_estimators': 397}\n"
     ]
    }
   ],
   "source": [
    "depths = np.linspace(1,10,10)\n",
    "\n",
    "# Base Estimator\n",
    "#base_estimator = [DecisionTreeRegressor(max_depth = depth) for depth in depths]\n",
    "# Number of trees in random forest\n",
    "n_estimators = [int(x) for x in np.linspace(start = 11, stop = 501, num = 20)]\n",
    "# Learning Rate\n",
    "learning_rate = [1e-3,1e-2,1e-1,1,10]\n",
    "\n",
    "# Create the random grid\n",
    "param_grid = {'n_estimators': n_estimators,\n",
    "               'learning_rate': learning_rate}\n",
    "\n",
    "scores = []\n",
    "params = []\n",
    "for depth in depths:\n",
    "    # Create a based model\n",
    "    ada = AdaBoostRegressor(base_estimator = DecisionTreeRegressor(max_depth = depth), random_state = 0)\n",
    "    # Instantiate the grid search model\n",
    "    grid_search = GridSearchCV(estimator = ada, param_grid = param_grid, cv = 3, n_jobs = -1, verbose = 2, scoring = 'r2')\n",
    "    grid_search.fit(X_train, y_train)\n",
    "    \n",
    "    params.append(grid_search.best_params_)\n",
    "    print(grid_search.best_params_)"
   ]
  },
  {
   "cell_type": "code",
   "execution_count": 317,
   "metadata": {},
   "outputs": [
    {
     "name": "stdout",
     "output_type": "stream",
     "text": [
      "0.5502864282968083\n",
      "[47.03333333 49.23      ]\n",
      "[47.4 50.8]\n"
     ]
    }
   ],
   "source": [
    "learning_rate = 0.1\n",
    "depth = 5\n",
    "n_estimators = 165\n",
    "\n",
    "ada = AdaBoostRegressor(base_estimator = DecisionTreeRegressor(max_depth = depth), n_estimators = n_estimators, learning_rate = learning_rate, random_state = 0).fit(X_train, y_train)\n",
    "y = ada.predict(X_test)\n",
    "print(r2_score(y_test, y))\n",
    "print(y)\n",
    "print(y_test)\n",
    "\n",
    "ada_initial_mse = mean_squared_error(y_test, y)\n",
    "ada_initial_r2 = r2_score(y_test, y)"
   ]
  },
  {
   "cell_type": "markdown",
   "metadata": {},
   "source": [
    "#### - PCA DataFrame"
   ]
  },
  {
   "cell_type": "code",
   "execution_count": 222,
   "metadata": {},
   "outputs": [
    {
     "name": "stdout",
     "output_type": "stream",
     "text": [
      "Fitting 3 folds for each of 100 candidates, totalling 300 fits\n"
     ]
    },
    {
     "name": "stderr",
     "output_type": "stream",
     "text": [
      "[Parallel(n_jobs=-1)]: Using backend LokyBackend with 8 concurrent workers.\n",
      "[Parallel(n_jobs=-1)]: Done  25 tasks      | elapsed:    2.7s\n",
      "[Parallel(n_jobs=-1)]: Done 146 tasks      | elapsed:    6.1s\n",
      "[Parallel(n_jobs=-1)]: Done 300 out of 300 | elapsed:   10.7s finished\n",
      "[Parallel(n_jobs=-1)]: Using backend LokyBackend with 8 concurrent workers.\n"
     ]
    },
    {
     "name": "stdout",
     "output_type": "stream",
     "text": [
      "{'learning_rate': 1, 'n_estimators': 11}\n",
      "Fitting 3 folds for each of 100 candidates, totalling 300 fits\n"
     ]
    },
    {
     "name": "stderr",
     "output_type": "stream",
     "text": [
      "[Parallel(n_jobs=-1)]: Done  34 tasks      | elapsed:    2.1s\n",
      "[Parallel(n_jobs=-1)]: Done 178 tasks      | elapsed:    9.1s\n",
      "[Parallel(n_jobs=-1)]: Done 300 out of 300 | elapsed:   15.4s finished\n"
     ]
    },
    {
     "name": "stdout",
     "output_type": "stream",
     "text": [
      "{'learning_rate': 0.001, 'n_estimators': 320}\n",
      "Fitting 3 folds for each of 100 candidates, totalling 300 fits\n"
     ]
    },
    {
     "name": "stderr",
     "output_type": "stream",
     "text": [
      "[Parallel(n_jobs=-1)]: Using backend LokyBackend with 8 concurrent workers.\n",
      "[Parallel(n_jobs=-1)]: Done  34 tasks      | elapsed:    2.0s\n",
      "[Parallel(n_jobs=-1)]: Done 178 tasks      | elapsed:   12.6s\n",
      "[Parallel(n_jobs=-1)]: Done 300 out of 300 | elapsed:   21.5s finished\n",
      "[Parallel(n_jobs=-1)]: Using backend LokyBackend with 8 concurrent workers.\n"
     ]
    },
    {
     "name": "stdout",
     "output_type": "stream",
     "text": [
      "{'learning_rate': 0.1, 'n_estimators': 11}\n",
      "Fitting 3 folds for each of 100 candidates, totalling 300 fits\n"
     ]
    },
    {
     "name": "stderr",
     "output_type": "stream",
     "text": [
      "[Parallel(n_jobs=-1)]: Done  34 tasks      | elapsed:    2.1s\n",
      "[Parallel(n_jobs=-1)]: Done 178 tasks      | elapsed:   12.5s\n",
      "[Parallel(n_jobs=-1)]: Done 300 out of 300 | elapsed:   21.3s finished\n"
     ]
    },
    {
     "name": "stdout",
     "output_type": "stream",
     "text": [
      "{'learning_rate': 0.01, 'n_estimators': 294}\n",
      "Fitting 3 folds for each of 100 candidates, totalling 300 fits\n"
     ]
    },
    {
     "name": "stderr",
     "output_type": "stream",
     "text": [
      "[Parallel(n_jobs=-1)]: Using backend LokyBackend with 8 concurrent workers.\n",
      "[Parallel(n_jobs=-1)]: Done  34 tasks      | elapsed:    2.0s\n",
      "[Parallel(n_jobs=-1)]: Done 178 tasks      | elapsed:   12.5s\n",
      "[Parallel(n_jobs=-1)]: Done 300 out of 300 | elapsed:   21.6s finished\n",
      "[Parallel(n_jobs=-1)]: Using backend LokyBackend with 8 concurrent workers.\n"
     ]
    },
    {
     "name": "stdout",
     "output_type": "stream",
     "text": [
      "{'learning_rate': 0.01, 'n_estimators': 165}\n",
      "Fitting 3 folds for each of 100 candidates, totalling 300 fits\n"
     ]
    },
    {
     "name": "stderr",
     "output_type": "stream",
     "text": [
      "[Parallel(n_jobs=-1)]: Done  34 tasks      | elapsed:    2.0s\n",
      "[Parallel(n_jobs=-1)]: Done 178 tasks      | elapsed:   12.6s\n",
      "[Parallel(n_jobs=-1)]: Done 300 out of 300 | elapsed:   21.5s finished\n"
     ]
    },
    {
     "name": "stdout",
     "output_type": "stream",
     "text": [
      "{'learning_rate': 0.01, 'n_estimators': 191}\n",
      "Fitting 3 folds for each of 100 candidates, totalling 300 fits\n"
     ]
    },
    {
     "name": "stderr",
     "output_type": "stream",
     "text": [
      "[Parallel(n_jobs=-1)]: Using backend LokyBackend with 8 concurrent workers.\n",
      "[Parallel(n_jobs=-1)]: Done  34 tasks      | elapsed:    2.0s\n",
      "[Parallel(n_jobs=-1)]: Done 178 tasks      | elapsed:   12.5s\n",
      "[Parallel(n_jobs=-1)]: Done 300 out of 300 | elapsed:   21.3s finished\n"
     ]
    },
    {
     "name": "stdout",
     "output_type": "stream",
     "text": [
      "{'learning_rate': 0.01, 'n_estimators': 294}\n",
      "Fitting 3 folds for each of 100 candidates, totalling 300 fits\n"
     ]
    },
    {
     "name": "stderr",
     "output_type": "stream",
     "text": [
      "[Parallel(n_jobs=-1)]: Using backend LokyBackend with 8 concurrent workers.\n",
      "[Parallel(n_jobs=-1)]: Done  34 tasks      | elapsed:    2.0s\n",
      "[Parallel(n_jobs=-1)]: Done 178 tasks      | elapsed:   12.5s\n",
      "[Parallel(n_jobs=-1)]: Done 300 out of 300 | elapsed:   21.5s finished\n",
      "[Parallel(n_jobs=-1)]: Using backend LokyBackend with 8 concurrent workers.\n"
     ]
    },
    {
     "name": "stdout",
     "output_type": "stream",
     "text": [
      "{'learning_rate': 0.01, 'n_estimators': 165}\n",
      "Fitting 3 folds for each of 100 candidates, totalling 300 fits\n"
     ]
    },
    {
     "name": "stderr",
     "output_type": "stream",
     "text": [
      "[Parallel(n_jobs=-1)]: Done  34 tasks      | elapsed:    2.3s\n",
      "[Parallel(n_jobs=-1)]: Done 178 tasks      | elapsed:   13.2s\n",
      "[Parallel(n_jobs=-1)]: Done 300 out of 300 | elapsed:   22.8s finished\n"
     ]
    },
    {
     "name": "stdout",
     "output_type": "stream",
     "text": [
      "{'learning_rate': 0.01, 'n_estimators': 217}\n",
      "Fitting 3 folds for each of 100 candidates, totalling 300 fits\n"
     ]
    },
    {
     "name": "stderr",
     "output_type": "stream",
     "text": [
      "[Parallel(n_jobs=-1)]: Using backend LokyBackend with 8 concurrent workers.\n",
      "[Parallel(n_jobs=-1)]: Done  34 tasks      | elapsed:    2.3s\n",
      "[Parallel(n_jobs=-1)]: Done 178 tasks      | elapsed:   13.5s\n",
      "[Parallel(n_jobs=-1)]: Done 300 out of 300 | elapsed:   23.2s finished\n"
     ]
    },
    {
     "name": "stdout",
     "output_type": "stream",
     "text": [
      "{'learning_rate': 0.01, 'n_estimators': 217}\n"
     ]
    }
   ],
   "source": [
    "depths = np.linspace(1,10,10)\n",
    "\n",
    "# Base Estimator\n",
    "#base_estimator = [DecisionTreeRegressor(max_depth = depth) for depth in depths]\n",
    "# Number of trees in random forest\n",
    "n_estimators = [int(x) for x in np.linspace(start = 11, stop = 501, num = 20)]\n",
    "# Learning Rate\n",
    "learning_rate = [1e-3,1e-2,1e-1,1,10]\n",
    "\n",
    "# Create the random grid\n",
    "param_grid = {'n_estimators': n_estimators,\n",
    "               'learning_rate': learning_rate}\n",
    "\n",
    "scores = []\n",
    "params = []\n",
    "for depth in depths:\n",
    "    # Create a based model\n",
    "    ada = AdaBoostRegressor(base_estimator = DecisionTreeRegressor(max_depth = depth), random_state = 0)\n",
    "    # Instantiate the grid search model\n",
    "    grid_search = GridSearchCV(estimator = ada, param_grid = param_grid, cv = 3, n_jobs = -1, verbose = 2, scoring = 'r2')\n",
    "    grid_search.fit(X_train_pca, y_train)\n",
    "    \n",
    "    params.append(grid_search.best_params_)\n",
    "    print(grid_search.best_params_)"
   ]
  },
  {
   "cell_type": "code",
   "execution_count": 327,
   "metadata": {},
   "outputs": [
    {
     "name": "stdout",
     "output_type": "stream",
     "text": [
      "-0.09616839451773118\n",
      "[48.5728125 48.5728125]\n",
      "[47.4 50.8]\n"
     ]
    }
   ],
   "source": [
    "learning_rate = 0.1\n",
    "depth = 1\n",
    "n_estimators = 11\n",
    "\n",
    "ada = AdaBoostRegressor(base_estimator = DecisionTreeRegressor(max_depth = depth), n_estimators = n_estimators, learning_rate = learning_rate, random_state = 0).fit(X_train_pca, y_train)\n",
    "y_pca = ada.predict(X_test_pca)\n",
    "print(r2_score(y_test, y_pca))\n",
    "print(y_pca)\n",
    "print(y_test)\n",
    "\n",
    "ada_pca_mse = mean_squared_error(y_test, y_pca)\n",
    "ada_pca_r2 = r2_score(y_test, y_pca)"
   ]
  },
  {
   "cell_type": "markdown",
   "metadata": {},
   "source": [
    "*performance rather poor here*"
   ]
  },
  {
   "cell_type": "code",
   "execution_count": 328,
   "metadata": {},
   "outputs": [
    {
     "data": {
      "text/html": [
       "<div>\n",
       "<style scoped>\n",
       "    .dataframe tbody tr th:only-of-type {\n",
       "        vertical-align: middle;\n",
       "    }\n",
       "\n",
       "    .dataframe tbody tr th {\n",
       "        vertical-align: top;\n",
       "    }\n",
       "\n",
       "    .dataframe thead th {\n",
       "        text-align: right;\n",
       "    }\n",
       "</style>\n",
       "<table border=\"1\" class=\"dataframe\">\n",
       "  <thead>\n",
       "    <tr style=\"text-align: right;\">\n",
       "      <th></th>\n",
       "      <th>regressor</th>\n",
       "      <th>MSE</th>\n",
       "      <th>R2</th>\n",
       "    </tr>\n",
       "  </thead>\n",
       "  <tbody>\n",
       "    <tr>\n",
       "      <th>0</th>\n",
       "      <td>Linear Regression Initial Data</td>\n",
       "      <td>98.184059</td>\n",
       "      <td>-32.973723</td>\n",
       "    </tr>\n",
       "    <tr>\n",
       "      <th>1</th>\n",
       "      <td>Linear Regression PCA</td>\n",
       "      <td>4.880006</td>\n",
       "      <td>-0.688584</td>\n",
       "    </tr>\n",
       "    <tr>\n",
       "      <th>2</th>\n",
       "      <td>Lasso Standardized Initial Data</td>\n",
       "      <td>4.524136</td>\n",
       "      <td>-0.565445</td>\n",
       "    </tr>\n",
       "    <tr>\n",
       "      <th>3</th>\n",
       "      <td>Lasso PCA</td>\n",
       "      <td>4.524136</td>\n",
       "      <td>-0.565445</td>\n",
       "    </tr>\n",
       "    <tr>\n",
       "      <th>4</th>\n",
       "      <td>kNN Standardized Initial Data</td>\n",
       "      <td>2.822032</td>\n",
       "      <td>0.023518</td>\n",
       "    </tr>\n",
       "    <tr>\n",
       "      <th>5</th>\n",
       "      <td>kNN PCA Data</td>\n",
       "      <td>5.455055</td>\n",
       "      <td>-0.887562</td>\n",
       "    </tr>\n",
       "    <tr>\n",
       "      <th>6</th>\n",
       "      <td>Decision Tree Initial Data</td>\n",
       "      <td>3.176063</td>\n",
       "      <td>-0.098984</td>\n",
       "    </tr>\n",
       "    <tr>\n",
       "      <th>7</th>\n",
       "      <td>Decision Tree PCA</td>\n",
       "      <td>3.176063</td>\n",
       "      <td>-0.098984</td>\n",
       "    </tr>\n",
       "    <tr>\n",
       "      <th>8</th>\n",
       "      <td>Random Forrest Initial Data</td>\n",
       "      <td>5.222136</td>\n",
       "      <td>-0.806967</td>\n",
       "    </tr>\n",
       "    <tr>\n",
       "      <th>9</th>\n",
       "      <td>Random Forrest PCA</td>\n",
       "      <td>7.583886</td>\n",
       "      <td>-1.624182</td>\n",
       "    </tr>\n",
       "    <tr>\n",
       "      <th>10</th>\n",
       "      <td>Boosting Initial Data</td>\n",
       "      <td>1.299672</td>\n",
       "      <td>0.550286</td>\n",
       "    </tr>\n",
       "    <tr>\n",
       "      <th>11</th>\n",
       "      <td>Boosting PCA</td>\n",
       "      <td>3.167927</td>\n",
       "      <td>-0.096168</td>\n",
       "    </tr>\n",
       "  </tbody>\n",
       "</table>\n",
       "</div>"
      ],
      "text/plain": [
       "                          regressor        MSE         R2\n",
       "0    Linear Regression Initial Data  98.184059 -32.973723\n",
       "1             Linear Regression PCA   4.880006  -0.688584\n",
       "2   Lasso Standardized Initial Data   4.524136  -0.565445\n",
       "3                         Lasso PCA   4.524136  -0.565445\n",
       "4     kNN Standardized Initial Data   2.822032   0.023518\n",
       "5                      kNN PCA Data   5.455055  -0.887562\n",
       "6        Decision Tree Initial Data   3.176063  -0.098984\n",
       "7                 Decision Tree PCA   3.176063  -0.098984\n",
       "8       Random Forrest Initial Data   5.222136  -0.806967\n",
       "9                Random Forrest PCA   7.583886  -1.624182\n",
       "10            Boosting Initial Data   1.299672   0.550286\n",
       "11                     Boosting PCA   3.167927  -0.096168"
      ]
     },
     "metadata": {},
     "output_type": "display_data"
    }
   ],
   "source": [
    "results_df = pd.DataFrame({'regressor':['Linear Regression Initial Data', 'Linear Regression PCA', 'Lasso Standardized Initial Data', 'Lasso PCA','kNN Standardized Initial Data', 'kNN PCA Data', 'Decision Tree Initial Data', 'Decision Tree PCA', 'Random Forrest Initial Data', 'Random Forrest PCA', 'Boosting Initial Data', 'Boosting PCA'],\n",
    "                          'MSE':[lreg_initial_mse, lreg_pca_mse, lasso_initial_standardized_mse, lasso_pca_mse, knn_initial_standardized_mse, knn_pca_mse, dtree_initial_mse, dtree_pca_mse, rf_initial_mse, rf_pca_mse, ada_initial_mse, ada_pca_mse],\n",
    "                          'R2':[lreg_initial_r2, lreg_pca_r2, lasso_initial_standardized_r2, lasso_pca_r2, knn_initial_strandardized_r2, knn_pca_r2, dtree_initial_r2, dtree_pca_r2, rf_initial_r2, rf_pca_r2, ada_initial_r2, ada_pca_r2]})\n",
    "display(results_df)"
   ]
  },
  {
   "cell_type": "code",
   "execution_count": null,
   "metadata": {},
   "outputs": [],
   "source": []
  }
 ],
 "metadata": {
  "kernelspec": {
   "display_name": "Python 3",
   "language": "python",
   "name": "python3"
  },
  "language_info": {
   "codemirror_mode": {
    "name": "ipython",
    "version": 3
   },
   "file_extension": ".py",
   "mimetype": "text/x-python",
   "name": "python",
   "nbconvert_exporter": "python",
   "pygments_lexer": "ipython3",
   "version": "3.7.7"
  }
 },
 "nbformat": 4,
 "nbformat_minor": 4
}
